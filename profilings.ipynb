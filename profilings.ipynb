{
 "cells": [
  {
   "cell_type": "code",
   "execution_count": 1,
   "metadata": {
    "scrolled": true
   },
   "outputs": [
    {
     "name": "stdout",
     "output_type": "stream",
     "text": [
      "Collecting https://github.com/pandas-profiling/pandas-profiling/archive/master.zip\n",
      "  Using cached https://github.com/pandas-profiling/pandas-profiling/archive/master.zip\n",
      "Requirement already satisfied (use --upgrade to upgrade): pandas-profiling==3.0.0 from https://github.com/pandas-profiling/pandas-profiling/archive/master.zip in /home/ubuntu/anaconda3/lib/python3.8/site-packages\n",
      "Requirement already satisfied: joblib in /home/ubuntu/anaconda3/lib/python3.8/site-packages (from pandas-profiling==3.0.0) (0.16.0)\n",
      "Requirement already satisfied: scipy>=1.4.1 in /home/ubuntu/anaconda3/lib/python3.8/site-packages (from pandas-profiling==3.0.0) (1.5.0)\n",
      "Requirement already satisfied: pandas!=1.0.0,!=1.0.1,!=1.0.2,!=1.1.0,>=0.25.3 in /home/ubuntu/anaconda3/lib/python3.8/site-packages (from pandas-profiling==3.0.0) (1.0.5)\n",
      "Requirement already satisfied: matplotlib>=3.2.0 in /home/ubuntu/anaconda3/lib/python3.8/site-packages (from pandas-profiling==3.0.0) (3.2.2)\n",
      "Requirement already satisfied: pydantic>=1.8.1 in /home/ubuntu/anaconda3/lib/python3.8/site-packages (from pandas-profiling==3.0.0) (1.8.2)\n",
      "Requirement already satisfied: PyYAML>=5.0.0 in /home/ubuntu/anaconda3/lib/python3.8/site-packages (from pandas-profiling==3.0.0) (5.3.1)\n",
      "Requirement already satisfied: jinja2>=2.11.1 in /home/ubuntu/anaconda3/lib/python3.8/site-packages (from pandas-profiling==3.0.0) (2.11.2)\n",
      "Requirement already satisfied: visions[type_image_path]==0.7.1 in /home/ubuntu/anaconda3/lib/python3.8/site-packages (from pandas-profiling==3.0.0) (0.7.1)\n",
      "Requirement already satisfied: numpy>=1.16.0 in /home/ubuntu/anaconda3/lib/python3.8/site-packages (from pandas-profiling==3.0.0) (1.18.5)\n",
      "Requirement already satisfied: htmlmin>=0.1.12 in /home/ubuntu/anaconda3/lib/python3.8/site-packages (from pandas-profiling==3.0.0) (0.1.12)\n",
      "Requirement already satisfied: missingno>=0.4.2 in /home/ubuntu/anaconda3/lib/python3.8/site-packages (from pandas-profiling==3.0.0) (0.5.0)\n",
      "Requirement already satisfied: phik>=0.11.1 in /home/ubuntu/anaconda3/lib/python3.8/site-packages (from pandas-profiling==3.0.0) (0.11.2)\n",
      "Requirement already satisfied: tangled-up-in-unicode==0.1.0 in /home/ubuntu/anaconda3/lib/python3.8/site-packages (from pandas-profiling==3.0.0) (0.1.0)\n",
      "Requirement already satisfied: requests>=2.24.0 in /home/ubuntu/anaconda3/lib/python3.8/site-packages (from pandas-profiling==3.0.0) (2.24.0)\n",
      "Requirement already satisfied: tqdm>=4.48.2 in /home/ubuntu/anaconda3/lib/python3.8/site-packages (from pandas-profiling==3.0.0) (4.61.2)\n",
      "Requirement already satisfied: seaborn>=0.10.1 in /home/ubuntu/anaconda3/lib/python3.8/site-packages (from pandas-profiling==3.0.0) (0.10.1)\n",
      "Requirement already satisfied: python-dateutil>=2.6.1 in /home/ubuntu/anaconda3/lib/python3.8/site-packages (from pandas!=1.0.0,!=1.0.1,!=1.0.2,!=1.1.0,>=0.25.3->pandas-profiling==3.0.0) (2.8.1)\n",
      "Requirement already satisfied: pytz>=2017.2 in /home/ubuntu/anaconda3/lib/python3.8/site-packages (from pandas!=1.0.0,!=1.0.1,!=1.0.2,!=1.1.0,>=0.25.3->pandas-profiling==3.0.0) (2020.1)\n",
      "Requirement already satisfied: pyparsing!=2.0.4,!=2.1.2,!=2.1.6,>=2.0.1 in /home/ubuntu/anaconda3/lib/python3.8/site-packages (from matplotlib>=3.2.0->pandas-profiling==3.0.0) (2.4.7)\n",
      "Requirement already satisfied: cycler>=0.10 in /home/ubuntu/anaconda3/lib/python3.8/site-packages (from matplotlib>=3.2.0->pandas-profiling==3.0.0) (0.10.0)\n",
      "Requirement already satisfied: kiwisolver>=1.0.1 in /home/ubuntu/anaconda3/lib/python3.8/site-packages (from matplotlib>=3.2.0->pandas-profiling==3.0.0) (1.2.0)\n",
      "Requirement already satisfied: typing-extensions>=3.7.4.3 in /home/ubuntu/anaconda3/lib/python3.8/site-packages (from pydantic>=1.8.1->pandas-profiling==3.0.0) (3.10.0.0)\n",
      "Requirement already satisfied: MarkupSafe>=0.23 in /home/ubuntu/anaconda3/lib/python3.8/site-packages (from jinja2>=2.11.1->pandas-profiling==3.0.0) (1.1.1)\n",
      "Requirement already satisfied: attrs>=19.3.0 in /home/ubuntu/anaconda3/lib/python3.8/site-packages (from visions[type_image_path]==0.7.1->pandas-profiling==3.0.0) (19.3.0)\n",
      "Requirement already satisfied: networkx>=2.4 in /home/ubuntu/anaconda3/lib/python3.8/site-packages (from visions[type_image_path]==0.7.1->pandas-profiling==3.0.0) (2.4)\n",
      "Requirement already satisfied: multimethod==1.4 in /home/ubuntu/anaconda3/lib/python3.8/site-packages (from visions[type_image_path]==0.7.1->pandas-profiling==3.0.0) (1.4)\n",
      "Requirement already satisfied: bottleneck in /home/ubuntu/anaconda3/lib/python3.8/site-packages (from visions[type_image_path]==0.7.1->pandas-profiling==3.0.0) (1.3.2)\n",
      "Requirement already satisfied: Pillow; extra == \"type_image_path\" in /home/ubuntu/anaconda3/lib/python3.8/site-packages (from visions[type_image_path]==0.7.1->pandas-profiling==3.0.0) (7.2.0)\n",
      "Requirement already satisfied: imagehash; extra == \"type_image_path\" in /home/ubuntu/anaconda3/lib/python3.8/site-packages (from visions[type_image_path]==0.7.1->pandas-profiling==3.0.0) (4.2.0)\n",
      "Requirement already satisfied: certifi>=2017.4.17 in /home/ubuntu/anaconda3/lib/python3.8/site-packages (from requests>=2.24.0->pandas-profiling==3.0.0) (2020.6.20)\n",
      "Requirement already satisfied: chardet<4,>=3.0.2 in /home/ubuntu/anaconda3/lib/python3.8/site-packages (from requests>=2.24.0->pandas-profiling==3.0.0) (3.0.4)\n",
      "Requirement already satisfied: idna<3,>=2.5 in /home/ubuntu/anaconda3/lib/python3.8/site-packages (from requests>=2.24.0->pandas-profiling==3.0.0) (2.10)\n",
      "Requirement already satisfied: urllib3!=1.25.0,!=1.25.1,<1.26,>=1.21.1 in /home/ubuntu/anaconda3/lib/python3.8/site-packages (from requests>=2.24.0->pandas-profiling==3.0.0) (1.25.9)\n",
      "Requirement already satisfied: six>=1.5 in /home/ubuntu/anaconda3/lib/python3.8/site-packages (from python-dateutil>=2.6.1->pandas!=1.0.0,!=1.0.1,!=1.0.2,!=1.1.0,>=0.25.3->pandas-profiling==3.0.0) (1.15.0)\n",
      "Requirement already satisfied: decorator>=4.3.0 in /home/ubuntu/anaconda3/lib/python3.8/site-packages (from networkx>=2.4->visions[type_image_path]==0.7.1->pandas-profiling==3.0.0) (4.4.2)\n",
      "Requirement already satisfied: PyWavelets in /home/ubuntu/anaconda3/lib/python3.8/site-packages (from imagehash; extra == \"type_image_path\"->visions[type_image_path]==0.7.1->pandas-profiling==3.0.0) (1.1.1)\n",
      "Building wheels for collected packages: pandas-profiling\n",
      "  Building wheel for pandas-profiling (setup.py) ... \u001b[?25ldone\n",
      "\u001b[?25h  Created wheel for pandas-profiling: filename=pandas_profiling-3.0.0-py2.py3-none-any.whl size=248501 sha256=e0a98a664ab7e122951536f58629ec05c2bd51eb99dfc4b95bd2fd6198fada4e\n",
      "  Stored in directory: /tmp/pip-ephem-wheel-cache-tw_mv1hc/wheels/64/b6/85/dfc808b23666a5910371784e349d28818006ff63ed9cfeca59\n",
      "Successfully built pandas-profiling\n"
     ]
    }
   ],
   "source": [
    "# Instalando o pandas-profiling\n",
    "!pip install https://github.com/pandas-profiling/pandas-profiling/archive/master.zip"
   ]
  },
  {
   "cell_type": "code",
   "execution_count": 4,
   "metadata": {},
   "outputs": [
    {
     "name": "stdout",
     "output_type": "stream",
     "text": [
      "Chikungunya: 161 arquivos\n"
     ]
    }
   ],
   "source": [
    "# Importando o Pandas.\n",
    "import pandas as pd\n",
    "import pandas_profiling\n",
    "import os\n",
    "\n",
    "# Caminho para a pasta com os .CSVs de chikungunya\n",
    "sinan_chik_dir_path = \"/home/ubuntu/Geracao_profiling/CHIK_CSV\" #@param {type:\"string\"}\n",
    "# Caminho para a pasta com os .CSVs de dengue\n",
    "sinan_dengue_dir_path = \"/home/ubuntu/Geracao_profiling/DENGUE_CSV\" #@param {type:\"string\"}\n",
    "\n",
    "# Caminho para salvar os profilings\n",
    "profiling_path = \"/home/ubuntu/Geracao_profiling/Profilings/Brasil\" #@param {type:\"string\"}\n",
    "first_part_path = f'{profiling_path}/dengue_first_part.csv'\n",
    "second_part_path = f'{profiling_path}/dengue_second_part.csv'\n",
    "full_part_path = f'{profiling_path}/dengue_full_part.csv'\n",
    "\n",
    "if (sinan_chik_dir_path.endswith('/*') == False):\n",
    "    sinan_chik_dir_path = sinan_chik_dir_path + '/*'\n",
    "\n",
    "# if (sinan_dengue_dir_path.endswith('/*') == False):\n",
    "#   sinan_dengue_dir_path = sinan_dengue_dir_path + '/*'\n",
    "\n",
    "# Lendo todos os arquivos dentro dos diretórios de dengue e chikungunya\n",
    "import glob\n",
    "chik_files = glob.glob(sinan_chik_dir_path)\n",
    "# dengue_files = glob.glob(sinan_dengue_dir_path)\n",
    "\n",
    "print(f'Chikungunya: {len(chik_files)} arquivos')\n",
    "# print(f'Dengue: {len(dengue_files)} arquivos')"
   ]
  },
  {
   "cell_type": "code",
   "execution_count": 5,
   "metadata": {},
   "outputs": [
    {
     "ename": "NameError",
     "evalue": "name 'dengue_files' is not defined",
     "output_type": "error",
     "traceback": [
      "\u001b[0;31m---------------------------------------------------------------------------\u001b[0m",
      "\u001b[0;31mNameError\u001b[0m                                 Traceback (most recent call last)",
      "\u001b[0;32m<ipython-input-5-ee18fc47ec98>\u001b[0m in \u001b[0;36m<module>\u001b[0;34m\u001b[0m\n\u001b[0;32m----> 1\u001b[0;31m \u001b[0mdengue_files\u001b[0m\u001b[0;34m.\u001b[0m\u001b[0msort\u001b[0m\u001b[0;34m(\u001b[0m\u001b[0;34m)\u001b[0m\u001b[0;34m\u001b[0m\u001b[0;34m\u001b[0m\u001b[0m\n\u001b[0m\u001b[1;32m      2\u001b[0m \u001b[0;34m\u001b[0m\u001b[0m\n\u001b[1;32m      3\u001b[0m \u001b[0mfirst_part\u001b[0m \u001b[0;34m=\u001b[0m \u001b[0mdengue_files\u001b[0m\u001b[0;34m[\u001b[0m\u001b[0;36m0\u001b[0m\u001b[0;34m:\u001b[0m\u001b[0;36m112\u001b[0m\u001b[0;34m]\u001b[0m\u001b[0;34m\u001b[0m\u001b[0;34m\u001b[0m\u001b[0m\n\u001b[1;32m      4\u001b[0m \u001b[0msecond_part\u001b[0m \u001b[0;34m=\u001b[0m \u001b[0mdengue_files\u001b[0m\u001b[0;34m[\u001b[0m\u001b[0;36m112\u001b[0m\u001b[0;34m:\u001b[0m\u001b[0;34m]\u001b[0m\u001b[0;34m\u001b[0m\u001b[0;34m\u001b[0m\u001b[0m\n\u001b[1;32m      5\u001b[0m \u001b[0;34m\u001b[0m\u001b[0m\n",
      "\u001b[0;31mNameError\u001b[0m: name 'dengue_files' is not defined"
     ]
    }
   ],
   "source": [
    "dengue_files.sort()\n",
    "\n",
    "first_part = dengue_files[0:112]\n",
    "second_part = dengue_files[112:]\n",
    "\n",
    "print(first_part[0])\n",
    "print(first_part[len(first_part) - 1])\n",
    "print(second_part[0])\n",
    "print(second_part[len(second_part) - 1])"
   ]
  },
  {
   "cell_type": "code",
   "execution_count": null,
   "metadata": {},
   "outputs": [
    {
     "name": "stdout",
     "output_type": "stream",
     "text": [
      "Carregando DF - AC: 1 de 161 (/home/ubuntu/Geracao_profiling/CHIK_CSV/CHIKAC15.csv)\n",
      "Carregando DF - AC: 2 de 161 (/home/ubuntu/Geracao_profiling/CHIK_CSV/CHIKAC16.csv)\n",
      "Carregando DF - AC: 3 de 161 (/home/ubuntu/Geracao_profiling/CHIK_CSV/CHIKAC17.csv)\n",
      "Carregando DF - AC: 4 de 161 (/home/ubuntu/Geracao_profiling/CHIK_CSV/CHIKAC18.csv)\n",
      "Carregando DF - AC: 5 de 161 (/home/ubuntu/Geracao_profiling/CHIK_CSV/CHIKAC19.csv)\n",
      "Carregando DF - AC: 6 de 161 (/home/ubuntu/Geracao_profiling/CHIK_CSV/CHIKAC20.csv)\n",
      "Carregando DF - AL: 7 de 161 (/home/ubuntu/Geracao_profiling/CHIK_CSV/CHIKAL15.csv)\n",
      "Carregando DF - AL: 8 de 161 (/home/ubuntu/Geracao_profiling/CHIK_CSV/CHIKAL16.csv)\n"
     ]
    },
    {
     "name": "stderr",
     "output_type": "stream",
     "text": [
      "/home/ubuntu/anaconda3/lib/python3.8/site-packages/IPython/core/interactiveshell.py:3071: DtypeWarning: Columns (24) have mixed types.Specify dtype option on import or set low_memory=False.\n",
      "  has_raised = await self.run_ast_nodes(code_ast.body, cell_name,\n"
     ]
    },
    {
     "name": "stdout",
     "output_type": "stream",
     "text": [
      "Carregando DF - AL: 9 de 161 (/home/ubuntu/Geracao_profiling/CHIK_CSV/CHIKAL17.csv)\n",
      "Carregando DF - AL: 10 de 161 (/home/ubuntu/Geracao_profiling/CHIK_CSV/CHIKAL18.csv)\n",
      "Carregando DF - AL: 11 de 161 (/home/ubuntu/Geracao_profiling/CHIK_CSV/CHIKAL19.csv)\n",
      "Carregando DF - AL: 12 de 161 (/home/ubuntu/Geracao_profiling/CHIK_CSV/CHIKAL20.csv)\n",
      "Carregando DF - AM: 13 de 161 (/home/ubuntu/Geracao_profiling/CHIK_CSV/CHIKAM15.csv)\n",
      "Carregando DF - AM: 14 de 161 (/home/ubuntu/Geracao_profiling/CHIK_CSV/CHIKAM16.csv)\n",
      "Carregando DF - AM: 15 de 161 (/home/ubuntu/Geracao_profiling/CHIK_CSV/CHIKAM17.csv)\n",
      "Carregando DF - AM: 16 de 161 (/home/ubuntu/Geracao_profiling/CHIK_CSV/CHIKAM18.csv)\n",
      "Carregando DF - AM: 17 de 161 (/home/ubuntu/Geracao_profiling/CHIK_CSV/CHIKAM19.csv)\n",
      "Carregando DF - AM: 18 de 161 (/home/ubuntu/Geracao_profiling/CHIK_CSV/CHIKAM20.csv)\n",
      "Carregando DF - AP: 19 de 161 (/home/ubuntu/Geracao_profiling/CHIK_CSV/CHIKAP15.csv)\n",
      "Carregando DF - AP: 20 de 161 (/home/ubuntu/Geracao_profiling/CHIK_CSV/CHIKAP16.csv)\n",
      "Carregando DF - AP: 21 de 161 (/home/ubuntu/Geracao_profiling/CHIK_CSV/CHIKAP17.csv)\n",
      "Carregando DF - AP: 22 de 161 (/home/ubuntu/Geracao_profiling/CHIK_CSV/CHIKAP18.csv)\n",
      "Carregando DF - AP: 23 de 161 (/home/ubuntu/Geracao_profiling/CHIK_CSV/CHIKAP19.csv)\n",
      "Carregando DF - AP: 24 de 161 (/home/ubuntu/Geracao_profiling/CHIK_CSV/CHIKAP20.csv)\n",
      "Carregando DF - BA: 25 de 161 (/home/ubuntu/Geracao_profiling/CHIK_CSV/CHIKBA15.csv)\n"
     ]
    }
   ],
   "source": [
    "# CHIKUNGUNYA\n",
    "\n",
    "chik_files.sort()\n",
    "df_array = []\n",
    "\n",
    "for index_count, path in enumerate(chik_files):\n",
    "    # Pegando o estado\n",
    "    state = os.path.basename(path)[4:6]\n",
    "    print(f'Carregando DF - {state}: {index_count + 1} de {len(chik_files)} ({path})')\n",
    "    df_state = pd.read_csv(path, sep=',')\n",
    "    df_state['UF'] = state\n",
    "    df_array.append(df_state)\n",
    "\n",
    "print(f'\\n### Quantidade de DFs carregados: {len(df_array)}')\n",
    "\n",
    "print('\\n### Concatenando os DFs');\n",
    "df = pd.concat(df_array, join='inner')\n",
    "caminho_novo = \"/home/ubuntu/Geracao_profiling/ChikungunyaCompletoSINAN.csv\"\n",
    "df.to_csv(caminho_novo, sep=\",\", index = False)\n",
    "\n",
    "# print(f'\\n### Gerando o profiling')\n",
    "# profile = pandas_profiling.ProfileReport(df, title='Chikungunya', minimal=True)\n",
    "# profile_path = f'{profiling_path}/profiling_chik.html'\n",
    "# print(f'\\n### Salvando o profiling em: {profile_path}')\n",
    "# profile.to_file(profile_path)"
   ]
  },
  {
   "cell_type": "code",
   "execution_count": null,
   "metadata": {},
   "outputs": [],
   "source": [
    "# PRIMEIRA PARTE\n",
    "\n",
    "dengue_files.sort()\n",
    "df_array = []\n",
    "\n",
    "first_part = dengue_files[0:112]\n",
    "\n",
    "for index_count, path in enumerate(first_part):\n",
    "    # Pegando o estado\n",
    "    state = os.path.basename(path)[4:6]\n",
    "    print(f'Carregando DF - {state}: {index_count + 1} de {len(first_part)} ({path})')\n",
    "    df_state = pd.read_csv(path, sep=',')\n",
    "    df_state['UF'] = state\n",
    "    df_array.append(df_state)\n",
    "\n",
    "print(f'\\n### Quantidade de DFs carregados: {len(df_array)}')\n",
    "\n",
    "print('\\n### Concatenando os DFs');\n",
    "df = pd.concat(df_array, join='inner')\n",
    "\n",
    "print(f'\\n### Gerando o profiling')\n",
    "profile = pandas_profiling.ProfileReport(df, title='Dengue - Parte 1', minimal=True)\n",
    "profile_path = f'{profiling_path}/profiling_dengue_1.html'\n",
    "print(f'\\n### Salvando o profiling em: {profile_path}')\n",
    "profile.to_file(profile_path)"
   ]
  },
  {
   "cell_type": "code",
   "execution_count": null,
   "metadata": {},
   "outputs": [],
   "source": [
    "# SEGUNDA PARTE\n",
    "\n",
    "dengue_files.sort()\n",
    "df_array = []\n",
    "\n",
    "second_part = dengue_files[112:]\n",
    "\n",
    "for index_count, path in enumerate(second_part):\n",
    "    # Pegando o estado\n",
    "    state = os.path.basename(path)[4:6]\n",
    "    print(f'Carregando DF - {state}: {index_count + 1} de {len(second_part)} ({path})')\n",
    "    df_state = pd.read_csv(path, sep=',')\n",
    "    df_state['UF'] = state\n",
    "    df_array.append(df_state)\n",
    "\n",
    "print(f'\\n### Quantidade de DFs carregados: {len(df_array)}')\n",
    "\n",
    "print('\\n### Concatenando os DFs');\n",
    "df = pd.concat(df_array, join='inner')\n",
    "\n",
    "print(f'\\n### Gerando o profiling')\n",
    "profile = pandas_profiling.ProfileReport(df, title='Dengue - Parte 2', minimal=True)\n",
    "profile_path = f'{profiling_path}/profiling_dengue_2.html'\n",
    "print(f'\\n### Salvando o profiling em: {profile_path}')\n",
    "profile.to_file(profile_path)"
   ]
  }
 ],
 "metadata": {
  "celltoolbar": "Slideshow",
  "kernelspec": {
   "display_name": "Python 3",
   "language": "python",
   "name": "python3"
  },
  "language_info": {
   "codemirror_mode": {
    "name": "ipython",
    "version": 3
   },
   "file_extension": ".py",
   "mimetype": "text/x-python",
   "name": "python",
   "nbconvert_exporter": "python",
   "pygments_lexer": "ipython3",
   "version": "3.8.3"
  }
 },
 "nbformat": 4,
 "nbformat_minor": 4
}
