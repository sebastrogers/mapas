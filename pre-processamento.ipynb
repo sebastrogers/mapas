{
 "cells": [
  {
   "cell_type": "code",
   "execution_count": 1,
   "metadata": {},
   "outputs": [],
   "source": [
    "# Importando o Pandas.\n",
    "import pandas as pd\n",
    "import pandas_profiling\n",
    "from collections import Counter #Contador das classes"
   ]
  },
  {
   "cell_type": "code",
   "execution_count": 2,
   "metadata": {},
   "outputs": [
    {
     "name": "stderr",
     "output_type": "stream",
     "text": [
      "/home/ubuntu/anaconda3/lib/python3.8/site-packages/IPython/core/interactiveshell.py:3071: DtypeWarning: Columns (7,11,12,23,45,46,47,51,53,55,57,63,65,69,75,86,102) have mixed types.Specify dtype option on import or set low_memory=False.\n",
      "  has_raised = await self.run_ast_nodes(code_ast.body, cell_name,\n"
     ]
    }
   ],
   "source": [
    "base_completa = \"/home/ubuntu/Geracao_profiling/BaseCompleta.csv\"\n",
    "df = pd.read_csv(base_completa)"
   ]
  },
  {
   "cell_type": "code",
   "execution_count": 3,
   "metadata": {},
   "outputs": [
    {
     "name": "stdout",
     "output_type": "stream",
     "text": [
      "(6732542, 120)\n"
     ]
    },
    {
     "data": {
      "text/html": [
       "<div>\n",
       "<style scoped>\n",
       "    .dataframe tbody tr th:only-of-type {\n",
       "        vertical-align: middle;\n",
       "    }\n",
       "\n",
       "    .dataframe tbody tr th {\n",
       "        vertical-align: top;\n",
       "    }\n",
       "\n",
       "    .dataframe thead th {\n",
       "        text-align: right;\n",
       "    }\n",
       "</style>\n",
       "<table border=\"1\" class=\"dataframe\">\n",
       "  <thead>\n",
       "    <tr style=\"text-align: right;\">\n",
       "      <th></th>\n",
       "      <th>Unnamed: 0</th>\n",
       "      <th>TP_NOT</th>\n",
       "      <th>ID_AGRAVO</th>\n",
       "      <th>DT_NOTIFIC</th>\n",
       "      <th>SEM_NOT</th>\n",
       "      <th>NU_ANO</th>\n",
       "      <th>SG_UF_NOT</th>\n",
       "      <th>ID_MUNICIP</th>\n",
       "      <th>ID_REGIONA</th>\n",
       "      <th>ID_UNIDADE</th>\n",
       "      <th>...</th>\n",
       "      <th>LACO_N</th>\n",
       "      <th>PLASMATICO</th>\n",
       "      <th>EVIDENCIA</th>\n",
       "      <th>PLAQ_MENOR</th>\n",
       "      <th>CON_FHD</th>\n",
       "      <th>COMPLICA</th>\n",
       "      <th>TP_SISTEMA</th>\n",
       "      <th>NDUPLIC_N</th>\n",
       "      <th>CS_FLXRET</th>\n",
       "      <th>FLXRECEBI</th>\n",
       "    </tr>\n",
       "  </thead>\n",
       "  <tbody>\n",
       "    <tr>\n",
       "      <th>0</th>\n",
       "      <td>1</td>\n",
       "      <td>2</td>\n",
       "      <td>A90</td>\n",
       "      <td>2018-05-07</td>\n",
       "      <td>201819</td>\n",
       "      <td>2018</td>\n",
       "      <td>25</td>\n",
       "      <td>251620</td>\n",
       "      <td>1426.0</td>\n",
       "      <td>2504537.0</td>\n",
       "      <td>...</td>\n",
       "      <td>NaN</td>\n",
       "      <td>NaN</td>\n",
       "      <td>NaN</td>\n",
       "      <td>NaN</td>\n",
       "      <td>NaN</td>\n",
       "      <td>NaN</td>\n",
       "      <td>2.0</td>\n",
       "      <td>NaN</td>\n",
       "      <td>1.0</td>\n",
       "      <td>NaN</td>\n",
       "    </tr>\n",
       "    <tr>\n",
       "      <th>1</th>\n",
       "      <td>3</td>\n",
       "      <td>2</td>\n",
       "      <td>A90</td>\n",
       "      <td>2018-02-05</td>\n",
       "      <td>201806</td>\n",
       "      <td>2018</td>\n",
       "      <td>25</td>\n",
       "      <td>250840</td>\n",
       "      <td>1426.0</td>\n",
       "      <td>2606399.0</td>\n",
       "      <td>...</td>\n",
       "      <td>NaN</td>\n",
       "      <td>NaN</td>\n",
       "      <td>NaN</td>\n",
       "      <td>NaN</td>\n",
       "      <td>NaN</td>\n",
       "      <td>NaN</td>\n",
       "      <td>2.0</td>\n",
       "      <td>NaN</td>\n",
       "      <td>1.0</td>\n",
       "      <td>NaN</td>\n",
       "    </tr>\n",
       "    <tr>\n",
       "      <th>2</th>\n",
       "      <td>4</td>\n",
       "      <td>2</td>\n",
       "      <td>A90</td>\n",
       "      <td>2018-01-22</td>\n",
       "      <td>201804</td>\n",
       "      <td>2018</td>\n",
       "      <td>25</td>\n",
       "      <td>250840</td>\n",
       "      <td>1426.0</td>\n",
       "      <td>2606399.0</td>\n",
       "      <td>...</td>\n",
       "      <td>NaN</td>\n",
       "      <td>NaN</td>\n",
       "      <td>NaN</td>\n",
       "      <td>NaN</td>\n",
       "      <td>NaN</td>\n",
       "      <td>NaN</td>\n",
       "      <td>2.0</td>\n",
       "      <td>NaN</td>\n",
       "      <td>1.0</td>\n",
       "      <td>NaN</td>\n",
       "    </tr>\n",
       "    <tr>\n",
       "      <th>3</th>\n",
       "      <td>11</td>\n",
       "      <td>2</td>\n",
       "      <td>A90</td>\n",
       "      <td>2018-05-07</td>\n",
       "      <td>201819</td>\n",
       "      <td>2018</td>\n",
       "      <td>25</td>\n",
       "      <td>251080</td>\n",
       "      <td>1422.0</td>\n",
       "      <td>2605481.0</td>\n",
       "      <td>...</td>\n",
       "      <td>NaN</td>\n",
       "      <td>NaN</td>\n",
       "      <td>NaN</td>\n",
       "      <td>NaN</td>\n",
       "      <td>NaN</td>\n",
       "      <td>NaN</td>\n",
       "      <td>2.0</td>\n",
       "      <td>NaN</td>\n",
       "      <td>1.0</td>\n",
       "      <td>NaN</td>\n",
       "    </tr>\n",
       "    <tr>\n",
       "      <th>4</th>\n",
       "      <td>13</td>\n",
       "      <td>2</td>\n",
       "      <td>A90</td>\n",
       "      <td>2018-04-09</td>\n",
       "      <td>201815</td>\n",
       "      <td>2018</td>\n",
       "      <td>25</td>\n",
       "      <td>251080</td>\n",
       "      <td>1422.0</td>\n",
       "      <td>2605481.0</td>\n",
       "      <td>...</td>\n",
       "      <td>NaN</td>\n",
       "      <td>NaN</td>\n",
       "      <td>NaN</td>\n",
       "      <td>NaN</td>\n",
       "      <td>NaN</td>\n",
       "      <td>NaN</td>\n",
       "      <td>2.0</td>\n",
       "      <td>NaN</td>\n",
       "      <td>1.0</td>\n",
       "      <td>NaN</td>\n",
       "    </tr>\n",
       "  </tbody>\n",
       "</table>\n",
       "<p>5 rows × 120 columns</p>\n",
       "</div>"
      ],
      "text/plain": [
       "   Unnamed: 0  TP_NOT ID_AGRAVO  DT_NOTIFIC  SEM_NOT  NU_ANO  SG_UF_NOT  \\\n",
       "0           1       2       A90  2018-05-07   201819    2018         25   \n",
       "1           3       2       A90  2018-02-05   201806    2018         25   \n",
       "2           4       2       A90  2018-01-22   201804    2018         25   \n",
       "3          11       2       A90  2018-05-07   201819    2018         25   \n",
       "4          13       2       A90  2018-04-09   201815    2018         25   \n",
       "\n",
       "  ID_MUNICIP  ID_REGIONA  ID_UNIDADE  ... LACO_N PLASMATICO EVIDENCIA  \\\n",
       "0     251620      1426.0   2504537.0  ...    NaN        NaN       NaN   \n",
       "1     250840      1426.0   2606399.0  ...    NaN        NaN       NaN   \n",
       "2     250840      1426.0   2606399.0  ...    NaN        NaN       NaN   \n",
       "3     251080      1422.0   2605481.0  ...    NaN        NaN       NaN   \n",
       "4     251080      1422.0   2605481.0  ...    NaN        NaN       NaN   \n",
       "\n",
       "   PLAQ_MENOR CON_FHD  COMPLICA  TP_SISTEMA  NDUPLIC_N  CS_FLXRET  FLXRECEBI  \n",
       "0         NaN     NaN       NaN         2.0        NaN        1.0        NaN  \n",
       "1         NaN     NaN       NaN         2.0        NaN        1.0        NaN  \n",
       "2         NaN     NaN       NaN         2.0        NaN        1.0        NaN  \n",
       "3         NaN     NaN       NaN         2.0        NaN        1.0        NaN  \n",
       "4         NaN     NaN       NaN         2.0        NaN        1.0        NaN  \n",
       "\n",
       "[5 rows x 120 columns]"
      ]
     },
     "execution_count": 3,
     "metadata": {},
     "output_type": "execute_result"
    }
   ],
   "source": [
    "print(df.shape)\n",
    "df.head()"
   ]
  },
  {
   "cell_type": "code",
   "execution_count": 4,
   "metadata": {},
   "outputs": [
    {
     "data": {
      "text/plain": [
       "array(['PB', 'PE', 'RN', 'AC', 'RO', 'ES', 'GO', 'MS', 'PA', 'AM', 'MG',\n",
       "       'MT', 'SC', 'SP', 'SE', 'AL', 'TO', 'BA', 'AP', 'CE', 'MA', 'DF',\n",
       "       'PR', 'RS', 'RJ', 'RR', 'PI'], dtype=object)"
      ]
     },
     "execution_count": 4,
     "metadata": {},
     "output_type": "execute_result"
    }
   ],
   "source": [
    "df.UF.unique()"
   ]
  },
  {
   "cell_type": "code",
   "execution_count": 5,
   "metadata": {},
   "outputs": [
    {
     "data": {
      "text/plain": [
       "(6732542, 118)"
      ]
     },
     "execution_count": 5,
     "metadata": {},
     "output_type": "execute_result"
    }
   ],
   "source": [
    "df.drop(columns=[\"Unnamed: 0\", \"UF\"], inplace=True)\n",
    "df.shape"
   ]
  },
  {
   "cell_type": "code",
   "execution_count": 6,
   "metadata": {},
   "outputs": [],
   "source": [
    "# df.dropna(subset=['FEBRE'], how='any', inplace = True)\n",
    "# print(f'Shape após remover linhas com NaN na coluna FEBRE: {df.shape}')\n",
    "# df.shape"
   ]
  },
  {
   "cell_type": "code",
   "execution_count": 7,
   "metadata": {},
   "outputs": [
    {
     "data": {
      "text/plain": [
       "(325000, 118)"
      ]
     },
     "execution_count": 7,
     "metadata": {},
     "output_type": "execute_result"
    }
   ],
   "source": [
    "# Confirmação da quantidade de casos de Chikungunya\n",
    "# Casos de Chikungunya que não estavam marcadas na CLASSI_FIN\n",
    "df.loc[(df.RES_CHIKS1 == 1) & (df.CLASSI_FIN != 13), 'CLASSI_FIN'] = 13\n",
    "df[(df.CLASSI_FIN == 13)].shape"
   ]
  },
  {
   "cell_type": "code",
   "execution_count": 8,
   "metadata": {},
   "outputs": [
    {
     "data": {
      "text/plain": [
       "(6732542, 60)"
      ]
     },
     "execution_count": 8,
     "metadata": {},
     "output_type": "execute_result"
    }
   ],
   "source": [
    "df = df.loc[:, df.isnull().mean() < .60]\n",
    "df.shape"
   ]
  },
  {
   "cell_type": "code",
   "execution_count": 9,
   "metadata": {},
   "outputs": [
    {
     "data": {
      "text/plain": [
       "Index(['TP_NOT', 'ID_AGRAVO', 'DT_NOTIFIC', 'SEM_NOT', 'NU_ANO', 'SG_UF_NOT',\n",
       "       'ID_MUNICIP', 'ID_REGIONA', 'ID_UNIDADE', 'DT_SIN_PRI', 'SEM_PRI',\n",
       "       'DT_NASC', 'NU_IDADE_N', 'CS_SEXO', 'CS_GESTANT', 'CS_RACA',\n",
       "       'CS_ESCOL_N', 'SG_UF', 'ID_MN_RESI', 'ID_RG_RESI', 'ID_PAIS',\n",
       "       'DT_INVEST', 'FEBRE', 'MIALGIA', 'CEFALEIA', 'EXANTEMA', 'VOMITO',\n",
       "       'NAUSEA', 'DOR_COSTAS', 'CONJUNTVIT', 'ARTRITE', 'ARTRALGIA',\n",
       "       'PETEQUIA_N', 'LEUCOPENIA', 'LACO', 'DOR_RETRO', 'DIABETES',\n",
       "       'HEMATOLOG', 'HEPATOPAT', 'RENAL', 'HIPERTENSA', 'ACIDO_PEPT',\n",
       "       'AUTO_IMUNE', 'RESUL_SORO', 'RESUL_NS1', 'RESUL_VI_N', 'RESUL_PCR_',\n",
       "       'HISTOPA_N', 'IMUNOH_N', 'HOSPITALIZ', 'TPAUTOCTO', 'COUFINF',\n",
       "       'COPAISINF', 'COMUNINF', 'CLASSI_FIN', 'CRITERIO', 'EVOLUCAO',\n",
       "       'DT_ENCERRA', 'TP_SISTEMA', 'CS_FLXRET'],\n",
       "      dtype='object')"
      ]
     },
     "execution_count": 9,
     "metadata": {},
     "output_type": "execute_result"
    }
   ],
   "source": [
    "df.columns"
   ]
  },
  {
   "cell_type": "code",
   "execution_count": 10,
   "metadata": {},
   "outputs": [
    {
     "data": {
      "text/plain": [
       "(6732542, 56)"
      ]
     },
     "execution_count": 10,
     "metadata": {},
     "output_type": "execute_result"
    }
   ],
   "source": [
    "df.drop(columns=[\"CS_FLXRET\", \"TP_SISTEMA\", \"CRITERIO\", \"TP_NOT\"], inplace=True)\n",
    "df.shape"
   ]
  },
  {
   "cell_type": "code",
   "execution_count": 11,
   "metadata": {},
   "outputs": [
    {
     "data": {
      "text/plain": [
       "(6732542, 56)"
      ]
     },
     "execution_count": 11,
     "metadata": {},
     "output_type": "execute_result"
    }
   ],
   "source": [
    "df.loc[df['CS_SEXO'] == \"F\", 'CS_SEXO'] = 0\n",
    "df.loc[df['CS_SEXO']==\"M\", 'CS_SEXO'] = 1\n",
    "df.loc[df['CS_SEXO']==\"I\", 'CS_SEXO'] = 2\n",
    "df.shape"
   ]
  },
  {
   "cell_type": "code",
   "execution_count": 13,
   "metadata": {},
   "outputs": [
    {
     "name": "stdout",
     "output_type": "stream",
     "text": [
      "(6732542, 56)\n"
     ]
    },
    {
     "data": {
      "text/plain": [
       "array(['DENGUE', 'OUTRAS_DOENCAS', 'CHIKUNGUNYA'], dtype=object)"
      ]
     },
     "execution_count": 13,
     "metadata": {},
     "output_type": "execute_result"
    }
   ],
   "source": [
    "# COMPLETANDO VALORES NULOS\n",
    "df.loc[df['CLASSI_FIN'].isnull(), 'CLASSI_FIN'] = 5\n",
    "# baseCompleta.loc[baseCompleta['CLASSI_FIN']==\"\", 'CLASSI_FIN'] = 5\n",
    "# baseCompleta.loc[baseCompleta['CLASSI_FIN']==\" \", 'CLASSI_FIN'] = 5\n",
    "# baseCompleta.loc[baseCompleta['CLASSI_FIN']=='.', 'CLASSI_FIN'] = 5\n",
    "\n",
    "# DENGUE\n",
    "# 1 - Dengue Clássico\n",
    "# 2 - Dengue com Complicações\n",
    "# 10 - Dengue\n",
    "# 11 - Dengue com sinais de alarme\n",
    "# 12 - Dengue grave\n",
    "df.loc[df['CLASSI_FIN']==1, 'CLASSI_FIN'] = 'Dengue'\n",
    "df.loc[df['CLASSI_FIN']==2, 'CLASSI_FIN'] = 'Dengue'\n",
    "df.loc[df['CLASSI_FIN']==10, 'CLASSI_FIN'] = 'Dengue'\n",
    "df.loc[df['CLASSI_FIN']==11, 'CLASSI_FIN'] = 'Dengue'\n",
    "df.loc[df['CLASSI_FIN']==12, 'CLASSI_FIN'] = 'Dengue'\n",
    "\n",
    "# CHIKUNGUNYA\n",
    "# 13 - Chikungunya\n",
    "df.loc[df['CLASSI_FIN']==13, 'CLASSI_FIN'] = 'Chikungunya'\n",
    "\n",
    "# SAUDAVEL\n",
    "# 5 - Descartado\n",
    "# 8 - Inconclusivo\n",
    "# 6 - Outros\n",
    "df.loc[df['CLASSI_FIN']==5, 'CLASSI_FIN'] = 'Discarded/Inconclusive'\n",
    "df.loc[df['CLASSI_FIN']==8, 'CLASSI_FIN'] = 'Discarded/Inconclusive'\n",
    "df.loc[df['CLASSI_FIN']==6, 'CLASSI_FIN'] = 'Discarded/Inconclusive'\n",
    "\n",
    "\n",
    "#Nos exames, o valor 4 e usado para \"nao realizado\"\n",
    "colunas_exames = [\n",
    "    \"RESUL_SORO\",\n",
    "    \"RESUL_NS1\",\n",
    "    \"RESUL_VI_N\",\n",
    "    \"RESUL_PCR_\",\n",
    "    \"HISTOPA_N\",\n",
    "    \"IMUNOH_N\"\n",
    "]\n",
    "for coluna in colunas_exames:\n",
    "    df.loc[df[coluna].isnull(), coluna] = 4\n",
    "\n",
    "for nome in df.columns:\n",
    "  df.loc[df[nome].isnull(), nome] = 9\n",
    "  # baseCompleta.loc[baseCompleta[nome]==\"\", nome] = 0\n",
    "  # baseCompleta.loc[baseCompleta[nome]==\" \", nome] = 0\n",
    "  # baseCompleta.loc[baseCompleta[nome]=='.', nome] = 0\n",
    "\n",
    "# df = df.drop_duplicates()\n",
    "\n",
    "\n",
    "print(df.shape)\n",
    "df['CLASSI_FIN'].unique()"
   ]
  },
  {
   "cell_type": "code",
   "execution_count": 14,
   "metadata": {},
   "outputs": [
    {
     "data": {
      "text/plain": [
       "(6732542, 56)"
      ]
     },
     "execution_count": 14,
     "metadata": {},
     "output_type": "execute_result"
    }
   ],
   "source": [
    "df.shape"
   ]
  },
  {
   "cell_type": "code",
   "execution_count": 15,
   "metadata": {},
   "outputs": [
    {
     "name": "stdout",
     "output_type": "stream",
     "text": [
      "Counter({'DENGUE': 4307513, 'OUTRAS_DOENCAS': 2100029, 'CHIKUNGUNYA': 325000})\n"
     ]
    }
   ],
   "source": [
    "print(Counter(df.CLASSI_FIN))"
   ]
  },
  {
   "cell_type": "code",
   "execution_count": 16,
   "metadata": {},
   "outputs": [
    {
     "data": {
      "text/plain": [
       "Index(['ID_AGRAVO', 'DT_NOTIFIC', 'SEM_NOT', 'NU_ANO', 'SG_UF_NOT',\n",
       "       'ID_MUNICIP', 'ID_REGIONA', 'ID_UNIDADE', 'DT_SIN_PRI', 'SEM_PRI',\n",
       "       'DT_NASC', 'NU_IDADE_N', 'CS_SEXO', 'CS_GESTANT', 'CS_RACA',\n",
       "       'CS_ESCOL_N', 'SG_UF', 'ID_MN_RESI', 'ID_RG_RESI', 'ID_PAIS',\n",
       "       'DT_INVEST', 'FEBRE', 'MIALGIA', 'CEFALEIA', 'EXANTEMA', 'VOMITO',\n",
       "       'NAUSEA', 'DOR_COSTAS', 'CONJUNTVIT', 'ARTRITE', 'ARTRALGIA',\n",
       "       'PETEQUIA_N', 'LEUCOPENIA', 'LACO', 'DOR_RETRO', 'DIABETES',\n",
       "       'HEMATOLOG', 'HEPATOPAT', 'RENAL', 'HIPERTENSA', 'ACIDO_PEPT',\n",
       "       'AUTO_IMUNE', 'RESUL_SORO', 'RESUL_NS1', 'RESUL_VI_N', 'RESUL_PCR_',\n",
       "       'HISTOPA_N', 'IMUNOH_N', 'HOSPITALIZ', 'TPAUTOCTO', 'COUFINF',\n",
       "       'COPAISINF', 'COMUNINF', 'CLASSI_FIN', 'EVOLUCAO', 'DT_ENCERRA'],\n",
       "      dtype='object')"
      ]
     },
     "execution_count": 16,
     "metadata": {},
     "output_type": "execute_result"
    }
   ],
   "source": [
    "df.columns"
   ]
  },
  {
   "cell_type": "code",
   "execution_count": 2,
   "metadata": {},
   "outputs": [
    {
     "name": "stderr",
     "output_type": "stream",
     "text": [
      "/home/ubuntu/anaconda3/lib/python3.8/site-packages/IPython/core/interactiveshell.py:3071: DtypeWarning: Columns (5,9,10,52) have mixed types.Specify dtype option on import or set low_memory=False.\n",
      "  has_raised = await self.run_ast_nodes(code_ast.body, cell_name,\n"
     ]
    },
    {
     "data": {
      "text/html": [
       "<div>\n",
       "<style scoped>\n",
       "    .dataframe tbody tr th:only-of-type {\n",
       "        vertical-align: middle;\n",
       "    }\n",
       "\n",
       "    .dataframe tbody tr th {\n",
       "        vertical-align: top;\n",
       "    }\n",
       "\n",
       "    .dataframe thead th {\n",
       "        text-align: right;\n",
       "    }\n",
       "</style>\n",
       "<table border=\"1\" class=\"dataframe\">\n",
       "  <thead>\n",
       "    <tr style=\"text-align: right;\">\n",
       "      <th></th>\n",
       "      <th>ID_AGRAVO</th>\n",
       "      <th>DT_NOTIFIC</th>\n",
       "      <th>SEM_NOT</th>\n",
       "      <th>NU_ANO</th>\n",
       "      <th>SG_UF_NOT</th>\n",
       "      <th>ID_MUNICIP</th>\n",
       "      <th>ID_REGIONA</th>\n",
       "      <th>ID_UNIDADE</th>\n",
       "      <th>DT_SIN_PRI</th>\n",
       "      <th>SEM_PRI</th>\n",
       "      <th>...</th>\n",
       "      <th>HISTOPA_N</th>\n",
       "      <th>IMUNOH_N</th>\n",
       "      <th>HOSPITALIZ</th>\n",
       "      <th>TPAUTOCTO</th>\n",
       "      <th>COUFINF</th>\n",
       "      <th>COPAISINF</th>\n",
       "      <th>COMUNINF</th>\n",
       "      <th>CLASSI_FIN</th>\n",
       "      <th>EVOLUCAO</th>\n",
       "      <th>DT_ENCERRA</th>\n",
       "    </tr>\n",
       "  </thead>\n",
       "  <tbody>\n",
       "    <tr>\n",
       "      <th>0</th>\n",
       "      <td>A90</td>\n",
       "      <td>2018-05-07</td>\n",
       "      <td>201819</td>\n",
       "      <td>2018</td>\n",
       "      <td>25</td>\n",
       "      <td>251620</td>\n",
       "      <td>1426.0</td>\n",
       "      <td>2504537.0</td>\n",
       "      <td>2018-05-06</td>\n",
       "      <td>201819</td>\n",
       "      <td>...</td>\n",
       "      <td>4.0</td>\n",
       "      <td>4.0</td>\n",
       "      <td>9.0</td>\n",
       "      <td>9.0</td>\n",
       "      <td>9.0</td>\n",
       "      <td>9.0</td>\n",
       "      <td>9</td>\n",
       "      <td>DENGUE</td>\n",
       "      <td>1.0</td>\n",
       "      <td>2018-07-01</td>\n",
       "    </tr>\n",
       "    <tr>\n",
       "      <th>1</th>\n",
       "      <td>A90</td>\n",
       "      <td>2018-02-05</td>\n",
       "      <td>201806</td>\n",
       "      <td>2018</td>\n",
       "      <td>25</td>\n",
       "      <td>250840</td>\n",
       "      <td>1426.0</td>\n",
       "      <td>2606399.0</td>\n",
       "      <td>2018-02-03</td>\n",
       "      <td>201805</td>\n",
       "      <td>...</td>\n",
       "      <td>4.0</td>\n",
       "      <td>4.0</td>\n",
       "      <td>9.0</td>\n",
       "      <td>9.0</td>\n",
       "      <td>9.0</td>\n",
       "      <td>9.0</td>\n",
       "      <td>9</td>\n",
       "      <td>DENGUE</td>\n",
       "      <td>1.0</td>\n",
       "      <td>2018-03-26</td>\n",
       "    </tr>\n",
       "    <tr>\n",
       "      <th>2</th>\n",
       "      <td>A90</td>\n",
       "      <td>2018-01-22</td>\n",
       "      <td>201804</td>\n",
       "      <td>2018</td>\n",
       "      <td>25</td>\n",
       "      <td>250840</td>\n",
       "      <td>1426.0</td>\n",
       "      <td>2606399.0</td>\n",
       "      <td>2018-01-05</td>\n",
       "      <td>201801</td>\n",
       "      <td>...</td>\n",
       "      <td>4.0</td>\n",
       "      <td>4.0</td>\n",
       "      <td>9.0</td>\n",
       "      <td>9.0</td>\n",
       "      <td>9.0</td>\n",
       "      <td>9.0</td>\n",
       "      <td>9</td>\n",
       "      <td>DENGUE</td>\n",
       "      <td>1.0</td>\n",
       "      <td>2018-02-27</td>\n",
       "    </tr>\n",
       "    <tr>\n",
       "      <th>3</th>\n",
       "      <td>A90</td>\n",
       "      <td>2018-05-07</td>\n",
       "      <td>201819</td>\n",
       "      <td>2018</td>\n",
       "      <td>25</td>\n",
       "      <td>251080</td>\n",
       "      <td>1422.0</td>\n",
       "      <td>2605481.0</td>\n",
       "      <td>2018-05-04</td>\n",
       "      <td>201818</td>\n",
       "      <td>...</td>\n",
       "      <td>4.0</td>\n",
       "      <td>4.0</td>\n",
       "      <td>2.0</td>\n",
       "      <td>9.0</td>\n",
       "      <td>9.0</td>\n",
       "      <td>9.0</td>\n",
       "      <td>9</td>\n",
       "      <td>OUTRAS_DOENCAS</td>\n",
       "      <td>1.0</td>\n",
       "      <td>2018-07-07</td>\n",
       "    </tr>\n",
       "    <tr>\n",
       "      <th>4</th>\n",
       "      <td>A90</td>\n",
       "      <td>2018-04-09</td>\n",
       "      <td>201815</td>\n",
       "      <td>2018</td>\n",
       "      <td>25</td>\n",
       "      <td>251080</td>\n",
       "      <td>1422.0</td>\n",
       "      <td>2605481.0</td>\n",
       "      <td>2018-04-02</td>\n",
       "      <td>201814</td>\n",
       "      <td>...</td>\n",
       "      <td>4.0</td>\n",
       "      <td>4.0</td>\n",
       "      <td>1.0</td>\n",
       "      <td>9.0</td>\n",
       "      <td>9.0</td>\n",
       "      <td>9.0</td>\n",
       "      <td>9</td>\n",
       "      <td>OUTRAS_DOENCAS</td>\n",
       "      <td>1.0</td>\n",
       "      <td>2018-09-04</td>\n",
       "    </tr>\n",
       "  </tbody>\n",
       "</table>\n",
       "<p>5 rows × 56 columns</p>\n",
       "</div>"
      ],
      "text/plain": [
       "  ID_AGRAVO  DT_NOTIFIC  SEM_NOT  NU_ANO  SG_UF_NOT ID_MUNICIP  ID_REGIONA  \\\n",
       "0       A90  2018-05-07   201819    2018         25     251620      1426.0   \n",
       "1       A90  2018-02-05   201806    2018         25     250840      1426.0   \n",
       "2       A90  2018-01-22   201804    2018         25     250840      1426.0   \n",
       "3       A90  2018-05-07   201819    2018         25     251080      1422.0   \n",
       "4       A90  2018-04-09   201815    2018         25     251080      1422.0   \n",
       "\n",
       "   ID_UNIDADE  DT_SIN_PRI SEM_PRI  ... HISTOPA_N  IMUNOH_N  HOSPITALIZ  \\\n",
       "0   2504537.0  2018-05-06  201819  ...       4.0       4.0         9.0   \n",
       "1   2606399.0  2018-02-03  201805  ...       4.0       4.0         9.0   \n",
       "2   2606399.0  2018-01-05  201801  ...       4.0       4.0         9.0   \n",
       "3   2605481.0  2018-05-04  201818  ...       4.0       4.0         2.0   \n",
       "4   2605481.0  2018-04-02  201814  ...       4.0       4.0         1.0   \n",
       "\n",
       "   TPAUTOCTO  COUFINF  COPAISINF  COMUNINF      CLASSI_FIN  EVOLUCAO  \\\n",
       "0        9.0      9.0        9.0         9          DENGUE       1.0   \n",
       "1        9.0      9.0        9.0         9          DENGUE       1.0   \n",
       "2        9.0      9.0        9.0         9          DENGUE       1.0   \n",
       "3        9.0      9.0        9.0         9  OUTRAS_DOENCAS       1.0   \n",
       "4        9.0      9.0        9.0         9  OUTRAS_DOENCAS       1.0   \n",
       "\n",
       "   DT_ENCERRA  \n",
       "0  2018-07-01  \n",
       "1  2018-03-26  \n",
       "2  2018-02-27  \n",
       "3  2018-07-07  \n",
       "4  2018-09-04  \n",
       "\n",
       "[5 rows x 56 columns]"
      ]
     },
     "execution_count": 2,
     "metadata": {},
     "output_type": "execute_result"
    }
   ],
   "source": [
    "df = pd.read_csv(\"/home/ubuntu/Geracao_profiling/BaseCompleta_processada-final.csv\", sep=\",\")\n",
    "df.head()"
   ]
  },
  {
   "cell_type": "code",
   "execution_count": 3,
   "metadata": {},
   "outputs": [],
   "source": [
    "df.loc[df['ID_AGRAVO']=='A92.', 'ID_AGRAVO'] = 'A92'\n",
    "df.loc[df['ID_AGRAVO']=='A92.0', 'ID_AGRAVO'] = 'A92'\n",
    "df.loc[df['ID_AGRAVO']=='A920', 'ID_AGRAVO'] = 'A92'"
   ]
  },
  {
   "cell_type": "code",
   "execution_count": 8,
   "metadata": {},
   "outputs": [],
   "source": [
    "df.to_csv(\"/home/ubuntu/Geracao_profiling/BaseCompleta_processada-final.csv\", sep=\",\", index = False)"
   ]
  },
  {
   "cell_type": "code",
   "execution_count": 9,
   "metadata": {},
   "outputs": [
    {
     "data": {
      "application/vnd.jupyter.widget-view+json": {
       "model_id": "eabb76b5703a42948e3d50c7f8e57eb8",
       "version_major": 2,
       "version_minor": 0
      },
      "text/plain": [
       "Summarize dataset:   0%|          | 0/64 [00:00<?, ?it/s]"
      ]
     },
     "metadata": {},
     "output_type": "display_data"
    },
    {
     "data": {
      "application/vnd.jupyter.widget-view+json": {
       "model_id": "898adc9afd1b49a0b503be9e393c3868",
       "version_major": 2,
       "version_minor": 0
      },
      "text/plain": [
       "Generate report structure:   0%|          | 0/1 [00:00<?, ?it/s]"
      ]
     },
     "metadata": {},
     "output_type": "display_data"
    },
    {
     "data": {
      "application/vnd.jupyter.widget-view+json": {
       "model_id": "a383ca9a0f1440b7a7f70b8b8d947598",
       "version_major": 2,
       "version_minor": 0
      },
      "text/plain": [
       "Render HTML:   0%|          | 0/1 [00:00<?, ?it/s]"
      ]
     },
     "metadata": {},
     "output_type": "display_data"
    },
    {
     "data": {
      "application/vnd.jupyter.widget-view+json": {
       "model_id": "7ee2c41b109e4a8d9d4f80995a6564e4",
       "version_major": 2,
       "version_minor": 0
      },
      "text/plain": [
       "Export report to file:   0%|          | 0/1 [00:00<?, ?it/s]"
      ]
     },
     "metadata": {},
     "output_type": "display_data"
    }
   ],
   "source": [
    "profile = pandas_profiling.ProfileReport(df, minimal=True, title='Análise dos Dados')\n",
    "profile.to_file(\"/home/ubuntu/Geracao_profiling/profiling-final.html\")"
   ]
  },
  {
   "cell_type": "code",
   "execution_count": 19,
   "metadata": {},
   "outputs": [],
   "source": [
    "dengue = df[df.CLASSI_FIN == \"Dengue\"]\n",
    "chika = df[df.CLASSI_FIN == \"Chikungunya\"]\n",
    "others = df[df.CLASSI_FIN == \"Discarded/Inconclusive\"]"
   ]
  },
  {
   "cell_type": "code",
   "execution_count": 20,
   "metadata": {},
   "outputs": [
    {
     "data": {
      "application/vnd.jupyter.widget-view+json": {
       "model_id": "c85f647df6d849fd93f80157995194fd",
       "version_major": 2,
       "version_minor": 0
      },
      "text/plain": [
       "Summarize dataset:   0%|          | 0/65 [00:00<?, ?it/s]"
      ]
     },
     "metadata": {},
     "output_type": "display_data"
    },
    {
     "data": {
      "application/vnd.jupyter.widget-view+json": {
       "model_id": "49a2fa9217d64e0dbcb799b6a751fe9a",
       "version_major": 2,
       "version_minor": 0
      },
      "text/plain": [
       "Generate report structure:   0%|          | 0/1 [00:00<?, ?it/s]"
      ]
     },
     "metadata": {},
     "output_type": "display_data"
    },
    {
     "data": {
      "application/vnd.jupyter.widget-view+json": {
       "model_id": "ddd43a774e864cf68cab1d7cfcef5c29",
       "version_major": 2,
       "version_minor": 0
      },
      "text/plain": [
       "Render HTML:   0%|          | 0/1 [00:00<?, ?it/s]"
      ]
     },
     "metadata": {},
     "output_type": "display_data"
    },
    {
     "data": {
      "application/vnd.jupyter.widget-view+json": {
       "model_id": "f577b301d33545b0bfd49bf38a888a6b",
       "version_major": 2,
       "version_minor": 0
      },
      "text/plain": [
       "Export report to file:   0%|          | 0/1 [00:00<?, ?it/s]"
      ]
     },
     "metadata": {},
     "output_type": "display_data"
    },
    {
     "data": {
      "application/vnd.jupyter.widget-view+json": {
       "model_id": "19802500221f4ae0ac5cabc9dca5ff23",
       "version_major": 2,
       "version_minor": 0
      },
      "text/plain": [
       "Summarize dataset:   0%|          | 0/65 [00:00<?, ?it/s]"
      ]
     },
     "metadata": {},
     "output_type": "display_data"
    },
    {
     "data": {
      "application/vnd.jupyter.widget-view+json": {
       "model_id": "35b9d6574b3c41f798fe431d313fd1b8",
       "version_major": 2,
       "version_minor": 0
      },
      "text/plain": [
       "Generate report structure:   0%|          | 0/1 [00:00<?, ?it/s]"
      ]
     },
     "metadata": {},
     "output_type": "display_data"
    },
    {
     "data": {
      "application/vnd.jupyter.widget-view+json": {
       "model_id": "77182bcb85e645d9a37251ce7f9d83e4",
       "version_major": 2,
       "version_minor": 0
      },
      "text/plain": [
       "Render HTML:   0%|          | 0/1 [00:00<?, ?it/s]"
      ]
     },
     "metadata": {},
     "output_type": "display_data"
    },
    {
     "data": {
      "application/vnd.jupyter.widget-view+json": {
       "model_id": "f7286e65b8e84fde90ed51e75d92f280",
       "version_major": 2,
       "version_minor": 0
      },
      "text/plain": [
       "Export report to file:   0%|          | 0/1 [00:00<?, ?it/s]"
      ]
     },
     "metadata": {},
     "output_type": "display_data"
    },
    {
     "data": {
      "application/vnd.jupyter.widget-view+json": {
       "model_id": "f3ce3307ddd14889aa91e1c2aa66926f",
       "version_major": 2,
       "version_minor": 0
      },
      "text/plain": [
       "Summarize dataset:   0%|          | 0/65 [00:00<?, ?it/s]"
      ]
     },
     "metadata": {},
     "output_type": "display_data"
    },
    {
     "data": {
      "application/vnd.jupyter.widget-view+json": {
       "model_id": "a8100f7afe784cc983b724bceb8168cc",
       "version_major": 2,
       "version_minor": 0
      },
      "text/plain": [
       "Generate report structure:   0%|          | 0/1 [00:00<?, ?it/s]"
      ]
     },
     "metadata": {},
     "output_type": "display_data"
    },
    {
     "data": {
      "application/vnd.jupyter.widget-view+json": {
       "model_id": "b77ec70f1a7947cb858c78f99ef684b7",
       "version_major": 2,
       "version_minor": 0
      },
      "text/plain": [
       "Render HTML:   0%|          | 0/1 [00:00<?, ?it/s]"
      ]
     },
     "metadata": {},
     "output_type": "display_data"
    },
    {
     "data": {
      "application/vnd.jupyter.widget-view+json": {
       "model_id": "11e369b06f3248c8899c1bf4b557395e",
       "version_major": 2,
       "version_minor": 0
      },
      "text/plain": [
       "Export report to file:   0%|          | 0/1 [00:00<?, ?it/s]"
      ]
     },
     "metadata": {},
     "output_type": "display_data"
    }
   ],
   "source": [
    "profile = pandas_profiling.ProfileReport(dengue, minimal=True, title='Análise dos Dados')\n",
    "profile.to_file(\"/home/ubuntu/Geracao_profiling/profiling-final-dengue.html\")\n",
    "\n",
    "profile = pandas_profiling.ProfileReport(chika, minimal=True, title='Análise dos Dados')\n",
    "profile.to_file(\"/home/ubuntu/Geracao_profiling/profiling-final-chika.html\")\n",
    "\n",
    "profile = pandas_profiling.ProfileReport(others, minimal=True, title='Análise dos Dados')\n",
    "profile.to_file(\"/home/ubuntu/Geracao_profiling/profiling-final-others.html\")"
   ]
  },
  {
   "cell_type": "code",
   "execution_count": null,
   "metadata": {},
   "outputs": [],
   "source": []
  }
 ],
 "metadata": {
  "kernelspec": {
   "display_name": "Python 3",
   "language": "python",
   "name": "python3"
  },
  "language_info": {
   "codemirror_mode": {
    "name": "ipython",
    "version": 3
   },
   "file_extension": ".py",
   "mimetype": "text/x-python",
   "name": "python",
   "nbconvert_exporter": "python",
   "pygments_lexer": "ipython3",
   "version": "3.8.3"
  }
 },
 "nbformat": 4,
 "nbformat_minor": 4
}
