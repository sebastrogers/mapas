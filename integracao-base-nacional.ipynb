{
 "cells": [
  {
   "cell_type": "code",
   "execution_count": 1,
   "metadata": {},
   "outputs": [
    {
     "name": "stdout",
     "output_type": "stream",
     "text": [
      "Collecting https://github.com/pandas-profiling/pandas-profiling/archive/master.zip\n",
      "  Using cached https://github.com/pandas-profiling/pandas-profiling/archive/master.zip\n",
      "Requirement already satisfied (use --upgrade to upgrade): pandas-profiling==3.0.0 from https://github.com/pandas-profiling/pandas-profiling/archive/master.zip in /home/ubuntu/anaconda3/lib/python3.8/site-packages\n",
      "Requirement already satisfied: joblib in /home/ubuntu/anaconda3/lib/python3.8/site-packages (from pandas-profiling==3.0.0) (0.16.0)\n",
      "Requirement already satisfied: scipy>=1.4.1 in /home/ubuntu/anaconda3/lib/python3.8/site-packages (from pandas-profiling==3.0.0) (1.5.0)\n",
      "Requirement already satisfied: pandas!=1.0.0,!=1.0.1,!=1.0.2,!=1.1.0,>=0.25.3 in /home/ubuntu/anaconda3/lib/python3.8/site-packages (from pandas-profiling==3.0.0) (1.0.5)\n",
      "Requirement already satisfied: matplotlib>=3.2.0 in /home/ubuntu/anaconda3/lib/python3.8/site-packages (from pandas-profiling==3.0.0) (3.2.2)\n",
      "Requirement already satisfied: pydantic>=1.8.1 in /home/ubuntu/anaconda3/lib/python3.8/site-packages (from pandas-profiling==3.0.0) (1.8.2)\n",
      "Requirement already satisfied: PyYAML>=5.0.0 in /home/ubuntu/anaconda3/lib/python3.8/site-packages (from pandas-profiling==3.0.0) (5.3.1)\n",
      "Requirement already satisfied: jinja2>=2.11.1 in /home/ubuntu/anaconda3/lib/python3.8/site-packages (from pandas-profiling==3.0.0) (2.11.2)\n",
      "Requirement already satisfied: visions[type_image_path]==0.7.1 in /home/ubuntu/anaconda3/lib/python3.8/site-packages (from pandas-profiling==3.0.0) (0.7.1)\n",
      "Requirement already satisfied: numpy>=1.16.0 in /home/ubuntu/anaconda3/lib/python3.8/site-packages (from pandas-profiling==3.0.0) (1.18.5)\n",
      "Requirement already satisfied: htmlmin>=0.1.12 in /home/ubuntu/anaconda3/lib/python3.8/site-packages (from pandas-profiling==3.0.0) (0.1.12)\n",
      "Requirement already satisfied: missingno>=0.4.2 in /home/ubuntu/anaconda3/lib/python3.8/site-packages (from pandas-profiling==3.0.0) (0.5.0)\n",
      "Requirement already satisfied: phik>=0.11.1 in /home/ubuntu/anaconda3/lib/python3.8/site-packages (from pandas-profiling==3.0.0) (0.11.2)\n",
      "Requirement already satisfied: tangled-up-in-unicode==0.1.0 in /home/ubuntu/anaconda3/lib/python3.8/site-packages (from pandas-profiling==3.0.0) (0.1.0)\n",
      "Requirement already satisfied: requests>=2.24.0 in /home/ubuntu/anaconda3/lib/python3.8/site-packages (from pandas-profiling==3.0.0) (2.24.0)\n",
      "Requirement already satisfied: tqdm>=4.48.2 in /home/ubuntu/anaconda3/lib/python3.8/site-packages (from pandas-profiling==3.0.0) (4.61.2)\n",
      "Requirement already satisfied: seaborn>=0.10.1 in /home/ubuntu/anaconda3/lib/python3.8/site-packages (from pandas-profiling==3.0.0) (0.10.1)\n",
      "Requirement already satisfied: python-dateutil>=2.6.1 in /home/ubuntu/anaconda3/lib/python3.8/site-packages (from pandas!=1.0.0,!=1.0.1,!=1.0.2,!=1.1.0,>=0.25.3->pandas-profiling==3.0.0) (2.8.1)\n",
      "Requirement already satisfied: pytz>=2017.2 in /home/ubuntu/anaconda3/lib/python3.8/site-packages (from pandas!=1.0.0,!=1.0.1,!=1.0.2,!=1.1.0,>=0.25.3->pandas-profiling==3.0.0) (2020.1)\n",
      "Requirement already satisfied: cycler>=0.10 in /home/ubuntu/anaconda3/lib/python3.8/site-packages (from matplotlib>=3.2.0->pandas-profiling==3.0.0) (0.10.0)\n",
      "Requirement already satisfied: pyparsing!=2.0.4,!=2.1.2,!=2.1.6,>=2.0.1 in /home/ubuntu/anaconda3/lib/python3.8/site-packages (from matplotlib>=3.2.0->pandas-profiling==3.0.0) (2.4.7)\n",
      "Requirement already satisfied: kiwisolver>=1.0.1 in /home/ubuntu/anaconda3/lib/python3.8/site-packages (from matplotlib>=3.2.0->pandas-profiling==3.0.0) (1.2.0)\n",
      "Requirement already satisfied: typing-extensions>=3.7.4.3 in /home/ubuntu/anaconda3/lib/python3.8/site-packages (from pydantic>=1.8.1->pandas-profiling==3.0.0) (3.10.0.0)\n",
      "Requirement already satisfied: MarkupSafe>=0.23 in /home/ubuntu/anaconda3/lib/python3.8/site-packages (from jinja2>=2.11.1->pandas-profiling==3.0.0) (1.1.1)\n",
      "Requirement already satisfied: networkx>=2.4 in /home/ubuntu/anaconda3/lib/python3.8/site-packages (from visions[type_image_path]==0.7.1->pandas-profiling==3.0.0) (2.4)\n",
      "Requirement already satisfied: multimethod==1.4 in /home/ubuntu/anaconda3/lib/python3.8/site-packages (from visions[type_image_path]==0.7.1->pandas-profiling==3.0.0) (1.4)\n",
      "Requirement already satisfied: attrs>=19.3.0 in /home/ubuntu/anaconda3/lib/python3.8/site-packages (from visions[type_image_path]==0.7.1->pandas-profiling==3.0.0) (19.3.0)\n",
      "Requirement already satisfied: bottleneck in /home/ubuntu/anaconda3/lib/python3.8/site-packages (from visions[type_image_path]==0.7.1->pandas-profiling==3.0.0) (1.3.2)\n",
      "Requirement already satisfied: Pillow; extra == \"type_image_path\" in /home/ubuntu/anaconda3/lib/python3.8/site-packages (from visions[type_image_path]==0.7.1->pandas-profiling==3.0.0) (7.2.0)\n",
      "Requirement already satisfied: imagehash; extra == \"type_image_path\" in /home/ubuntu/anaconda3/lib/python3.8/site-packages (from visions[type_image_path]==0.7.1->pandas-profiling==3.0.0) (4.2.0)\n",
      "Requirement already satisfied: urllib3!=1.25.0,!=1.25.1,<1.26,>=1.21.1 in /home/ubuntu/anaconda3/lib/python3.8/site-packages (from requests>=2.24.0->pandas-profiling==3.0.0) (1.25.9)\n",
      "Requirement already satisfied: idna<3,>=2.5 in /home/ubuntu/anaconda3/lib/python3.8/site-packages (from requests>=2.24.0->pandas-profiling==3.0.0) (2.10)\n",
      "Requirement already satisfied: chardet<4,>=3.0.2 in /home/ubuntu/anaconda3/lib/python3.8/site-packages (from requests>=2.24.0->pandas-profiling==3.0.0) (3.0.4)\n",
      "Requirement already satisfied: certifi>=2017.4.17 in /home/ubuntu/anaconda3/lib/python3.8/site-packages (from requests>=2.24.0->pandas-profiling==3.0.0) (2020.6.20)\n",
      "Requirement already satisfied: six>=1.5 in /home/ubuntu/anaconda3/lib/python3.8/site-packages (from python-dateutil>=2.6.1->pandas!=1.0.0,!=1.0.1,!=1.0.2,!=1.1.0,>=0.25.3->pandas-profiling==3.0.0) (1.15.0)\n",
      "Requirement already satisfied: decorator>=4.3.0 in /home/ubuntu/anaconda3/lib/python3.8/site-packages (from networkx>=2.4->visions[type_image_path]==0.7.1->pandas-profiling==3.0.0) (4.4.2)\n",
      "Requirement already satisfied: PyWavelets in /home/ubuntu/anaconda3/lib/python3.8/site-packages (from imagehash; extra == \"type_image_path\"->visions[type_image_path]==0.7.1->pandas-profiling==3.0.0) (1.1.1)\n",
      "Building wheels for collected packages: pandas-profiling\n",
      "  Building wheel for pandas-profiling (setup.py) ... \u001b[?25ldone\n",
      "\u001b[?25h  Created wheel for pandas-profiling: filename=pandas_profiling-3.0.0-py2.py3-none-any.whl size=248501 sha256=822c44e91c2b31ba2623241a0c40ad4d42ef09c2df2f07eaf5e8493d6def77ac\n",
      "  Stored in directory: /tmp/pip-ephem-wheel-cache-9taz3ebf/wheels/64/b6/85/dfc808b23666a5910371784e349d28818006ff63ed9cfeca59\n",
      "Successfully built pandas-profiling\n"
     ]
    }
   ],
   "source": [
    "# Instalando o pandas-profiling\n",
    "!pip install https://github.com/pandas-profiling/pandas-profiling/archive/master.zip"
   ]
  },
  {
   "cell_type": "code",
   "execution_count": 2,
   "metadata": {},
   "outputs": [
    {
     "name": "stdout",
     "output_type": "stream",
     "text": [
      "Chikungunya: 161 arquivos\n",
      "Dengue: 214 arquivos\n"
     ]
    }
   ],
   "source": [
    "# Importando o Pandas.\n",
    "import pandas as pd\n",
    "import pandas_profiling\n",
    "import os\n",
    "\n",
    "# Caminho para a pasta com os .CSVs de chikungunya\n",
    "sinan_chik_dir_path = \"/home/ubuntu/Geracao_profiling/CHIK_CSV\" #@param {type:\"string\"}\n",
    "# Caminho para a pasta com os .CSVs de dengue\n",
    "sinan_dengue_dir_path = \"/home/ubuntu/Geracao_profiling/DENGUE_CSV\" #@param {type:\"string\"}\n",
    "\n",
    "if (sinan_chik_dir_path.endswith('/*') == False):\n",
    "    sinan_chik_dir_path = sinan_chik_dir_path + '/*'\n",
    "\n",
    "if (sinan_dengue_dir_path.endswith('/*') == False):\n",
    "    sinan_dengue_dir_path = sinan_dengue_dir_path + '/*'\n",
    "\n",
    "# Lendo todos os arquivos dentro dos diretórios de dengue e chikungunya\n",
    "import glob\n",
    "chik_files = glob.glob(sinan_chik_dir_path)\n",
    "dengue_files = glob.glob(sinan_dengue_dir_path)\n",
    "\n",
    "print(f'Chikungunya: {len(chik_files)} arquivos')\n",
    "print(f'Dengue: {len(dengue_files)} arquivos')"
   ]
  },
  {
   "cell_type": "code",
   "execution_count": 3,
   "metadata": {},
   "outputs": [
    {
     "name": "stdout",
     "output_type": "stream",
     "text": [
      "Carregando o arquivo: 1 de 214 - /home/ubuntu/Geracao_profiling/DENGUE_CSV/DENGPB18.csv\n",
      "Carregando o arquivo: 2 de 214 - /home/ubuntu/Geracao_profiling/DENGUE_CSV/DENGAC13.csv\n"
     ]
    },
    {
     "name": "stderr",
     "output_type": "stream",
     "text": [
      "/home/ubuntu/anaconda3/lib/python3.8/site-packages/IPython/core/interactiveshell.py:3071: DtypeWarning: Columns (47) have mixed types.Specify dtype option on import or set low_memory=False.\n",
      "  has_raised = await self.run_ast_nodes(code_ast.body, cell_name,\n",
      "/home/ubuntu/anaconda3/lib/python3.8/site-packages/IPython/core/interactiveshell.py:3071: DtypeWarning: Columns (57) have mixed types.Specify dtype option on import or set low_memory=False.\n",
      "  has_raised = await self.run_ast_nodes(code_ast.body, cell_name,\n"
     ]
    },
    {
     "name": "stdout",
     "output_type": "stream",
     "text": [
      "Carregando o arquivo: 3 de 214 - /home/ubuntu/Geracao_profiling/DENGUE_CSV/DENGSC14.csv\n",
      "Carregando o arquivo: 4 de 214 - /home/ubuntu/Geracao_profiling/DENGUE_CSV/DENGSE19.csv\n",
      "Carregando o arquivo: 5 de 214 - /home/ubuntu/Geracao_profiling/DENGUE_CSV/DENGAL17.csv\n",
      "Carregando o arquivo: 6 de 214 - /home/ubuntu/Geracao_profiling/DENGUE_CSV/DENGAP13.csv\n",
      "Carregando o arquivo: 7 de 214 - /home/ubuntu/Geracao_profiling/DENGUE_CSV/DENGGO13.csv\n"
     ]
    },
    {
     "name": "stderr",
     "output_type": "stream",
     "text": [
      "/home/ubuntu/anaconda3/lib/python3.8/site-packages/IPython/core/interactiveshell.py:3071: DtypeWarning: Columns (51,53,55,57,63,75) have mixed types.Specify dtype option on import or set low_memory=False.\n",
      "  has_raised = await self.run_ast_nodes(code_ast.body, cell_name,\n"
     ]
    },
    {
     "name": "stdout",
     "output_type": "stream",
     "text": [
      "Carregando o arquivo: 8 de 214 - /home/ubuntu/Geracao_profiling/DENGUE_CSV/DENGGO18.csv\n"
     ]
    },
    {
     "name": "stderr",
     "output_type": "stream",
     "text": [
      "/home/ubuntu/anaconda3/lib/python3.8/site-packages/IPython/core/interactiveshell.py:3071: DtypeWarning: Columns (23,45) have mixed types.Specify dtype option on import or set low_memory=False.\n",
      "  has_raised = await self.run_ast_nodes(code_ast.body, cell_name,\n"
     ]
    },
    {
     "name": "stdout",
     "output_type": "stream",
     "text": [
      "Carregando o arquivo: 9 de 214 - /home/ubuntu/Geracao_profiling/DENGUE_CSV/DENGMT19.csv\n"
     ]
    },
    {
     "name": "stderr",
     "output_type": "stream",
     "text": [
      "/home/ubuntu/anaconda3/lib/python3.8/site-packages/IPython/core/interactiveshell.py:3071: DtypeWarning: Columns (46,47,75) have mixed types.Specify dtype option on import or set low_memory=False.\n",
      "  has_raised = await self.run_ast_nodes(code_ast.body, cell_name,\n",
      "/home/ubuntu/anaconda3/lib/python3.8/site-packages/IPython/core/interactiveshell.py:3071: DtypeWarning: Columns (23,55,57,75,86,102) have mixed types.Specify dtype option on import or set low_memory=False.\n",
      "  has_raised = await self.run_ast_nodes(code_ast.body, cell_name,\n"
     ]
    },
    {
     "name": "stdout",
     "output_type": "stream",
     "text": [
      "Carregando o arquivo: 10 de 214 - /home/ubuntu/Geracao_profiling/DENGUE_CSV/DENGAM17.csv\n",
      "Carregando o arquivo: 11 de 214 - /home/ubuntu/Geracao_profiling/DENGUE_CSV/DENGES19.csv\n",
      "Carregando o arquivo: 12 de 214 - /home/ubuntu/Geracao_profiling/DENGUE_CSV/DENGPB14.csv\n",
      "Carregando o arquivo: 13 de 214 - /home/ubuntu/Geracao_profiling/DENGUE_CSV/DENGDF20.csv\n",
      "Carregando o arquivo: 14 de 214 - /home/ubuntu/Geracao_profiling/DENGUE_CSV/DENGRS17.csv\n",
      "Carregando o arquivo: 15 de 214 - /home/ubuntu/Geracao_profiling/DENGUE_CSV/DENGTO20.csv\n",
      "Carregando o arquivo: 16 de 214 - /home/ubuntu/Geracao_profiling/DENGUE_CSV/DENGRJ16.csv\n"
     ]
    },
    {
     "name": "stderr",
     "output_type": "stream",
     "text": [
      "/home/ubuntu/anaconda3/lib/python3.8/site-packages/IPython/core/interactiveshell.py:3071: DtypeWarning: Columns (22,23,45,47,51,53,55,57,63,75,86,102) have mixed types.Specify dtype option on import or set low_memory=False.\n",
      "  has_raised = await self.run_ast_nodes(code_ast.body, cell_name,\n"
     ]
    },
    {
     "name": "stdout",
     "output_type": "stream",
     "text": [
      "Carregando o arquivo: 17 de 214 - /home/ubuntu/Geracao_profiling/DENGUE_CSV/DENGPE20.csv\n"
     ]
    },
    {
     "name": "stderr",
     "output_type": "stream",
     "text": [
      "/home/ubuntu/anaconda3/lib/python3.8/site-packages/IPython/core/interactiveshell.py:3071: DtypeWarning: Columns (23,47,102) have mixed types.Specify dtype option on import or set low_memory=False.\n",
      "  has_raised = await self.run_ast_nodes(code_ast.body, cell_name,\n"
     ]
    },
    {
     "name": "stdout",
     "output_type": "stream",
     "text": [
      "Carregando o arquivo: 18 de 214 - /home/ubuntu/Geracao_profiling/DENGUE_CSV/DENGRJ19.csv\n"
     ]
    },
    {
     "name": "stderr",
     "output_type": "stream",
     "text": [
      "/home/ubuntu/anaconda3/lib/python3.8/site-packages/IPython/core/interactiveshell.py:3071: DtypeWarning: Columns (46) have mixed types.Specify dtype option on import or set low_memory=False.\n",
      "  has_raised = await self.run_ast_nodes(code_ast.body, cell_name,\n"
     ]
    },
    {
     "name": "stdout",
     "output_type": "stream",
     "text": [
      "Carregando o arquivo: 19 de 214 - /home/ubuntu/Geracao_profiling/DENGUE_CSV/DENGAM14.csv\n",
      "Carregando o arquivo: 20 de 214 - /home/ubuntu/Geracao_profiling/DENGUE_CSV/DENGDF15.csv\n",
      "Carregando o arquivo: 21 de 214 - /home/ubuntu/Geracao_profiling/DENGUE_CSV/DENGMA14.csv\n",
      "Carregando o arquivo: 22 de 214 - /home/ubuntu/Geracao_profiling/DENGUE_CSV/DENGRO13.csv\n",
      "Carregando o arquivo: 23 de 214 - /home/ubuntu/Geracao_profiling/DENGUE_CSV/DENGSE20.csv\n",
      "Carregando o arquivo: 24 de 214 - /home/ubuntu/Geracao_profiling/DENGUE_CSV/DENGMS20.csv\n"
     ]
    },
    {
     "name": "stderr",
     "output_type": "stream",
     "text": [
      "/home/ubuntu/anaconda3/lib/python3.8/site-packages/IPython/core/interactiveshell.py:3071: DtypeWarning: Columns (23,45,47,102) have mixed types.Specify dtype option on import or set low_memory=False.\n",
      "  has_raised = await self.run_ast_nodes(code_ast.body, cell_name,\n"
     ]
    },
    {
     "name": "stdout",
     "output_type": "stream",
     "text": [
      "Carregando o arquivo: 25 de 214 - /home/ubuntu/Geracao_profiling/DENGUE_CSV/DENGMT13.csv\n",
      "Carregando o arquivo: 26 de 214 - /home/ubuntu/Geracao_profiling/DENGUE_CSV/DENGBA14.csv\n"
     ]
    },
    {
     "name": "stderr",
     "output_type": "stream",
     "text": [
      "/home/ubuntu/anaconda3/lib/python3.8/site-packages/IPython/core/interactiveshell.py:3071: DtypeWarning: Columns (23) have mixed types.Specify dtype option on import or set low_memory=False.\n",
      "  has_raised = await self.run_ast_nodes(code_ast.body, cell_name,\n"
     ]
    },
    {
     "name": "stdout",
     "output_type": "stream",
     "text": [
      "Carregando o arquivo: 27 de 214 - /home/ubuntu/Geracao_profiling/DENGUE_CSV/DENGRR17.csv\n",
      "Carregando o arquivo: 28 de 214 - /home/ubuntu/Geracao_profiling/DENGUE_CSV/DENGMG14.csv\n"
     ]
    },
    {
     "name": "stderr",
     "output_type": "stream",
     "text": [
      "/home/ubuntu/anaconda3/lib/python3.8/site-packages/IPython/core/interactiveshell.py:3071: DtypeWarning: Columns (55) have mixed types.Specify dtype option on import or set low_memory=False.\n",
      "  has_raised = await self.run_ast_nodes(code_ast.body, cell_name,\n"
     ]
    },
    {
     "name": "stdout",
     "output_type": "stream",
     "text": [
      "Carregando o arquivo: 29 de 214 - /home/ubuntu/Geracao_profiling/DENGUE_CSV/DENGAM19.csv\n",
      "Carregando o arquivo: 30 de 214 - /home/ubuntu/Geracao_profiling/DENGUE_CSV/DENGPR18.csv\n"
     ]
    },
    {
     "name": "stderr",
     "output_type": "stream",
     "text": [
      "/home/ubuntu/anaconda3/lib/python3.8/site-packages/IPython/core/interactiveshell.py:3071: DtypeWarning: Columns (45,47,102) have mixed types.Specify dtype option on import or set low_memory=False.\n",
      "  has_raised = await self.run_ast_nodes(code_ast.body, cell_name,\n"
     ]
    },
    {
     "name": "stdout",
     "output_type": "stream",
     "text": [
      "Carregando o arquivo: 31 de 214 - /home/ubuntu/Geracao_profiling/DENGUE_CSV/DENGRN16.csv\n",
      "Carregando o arquivo: 32 de 214 - /home/ubuntu/Geracao_profiling/DENGUE_CSV/DENGTO16.csv\n"
     ]
    },
    {
     "name": "stderr",
     "output_type": "stream",
     "text": [
      "/home/ubuntu/anaconda3/lib/python3.8/site-packages/IPython/core/interactiveshell.py:3071: DtypeWarning: Columns (45,47) have mixed types.Specify dtype option on import or set low_memory=False.\n",
      "  has_raised = await self.run_ast_nodes(code_ast.body, cell_name,\n"
     ]
    },
    {
     "name": "stdout",
     "output_type": "stream",
     "text": [
      "Carregando o arquivo: 33 de 214 - /home/ubuntu/Geracao_profiling/DENGUE_CSV/DENGRS13.csv\n",
      "Carregando o arquivo: 34 de 214 - /home/ubuntu/Geracao_profiling/DENGUE_CSV/DENGDF18.csv\n",
      "Carregando o arquivo: 35 de 214 - /home/ubuntu/Geracao_profiling/DENGUE_CSV/DENGDF16.csv\n"
     ]
    },
    {
     "name": "stderr",
     "output_type": "stream",
     "text": [
      "/home/ubuntu/anaconda3/lib/python3.8/site-packages/IPython/core/interactiveshell.py:3071: DtypeWarning: Columns (46,47) have mixed types.Specify dtype option on import or set low_memory=False.\n",
      "  has_raised = await self.run_ast_nodes(code_ast.body, cell_name,\n",
      "/home/ubuntu/anaconda3/lib/python3.8/site-packages/IPython/core/interactiveshell.py:3071: DtypeWarning: Columns (45,55) have mixed types.Specify dtype option on import or set low_memory=False.\n",
      "  has_raised = await self.run_ast_nodes(code_ast.body, cell_name,\n"
     ]
    },
    {
     "name": "stdout",
     "output_type": "stream",
     "text": [
      "Carregando o arquivo: 36 de 214 - /home/ubuntu/Geracao_profiling/DENGUE_CSV/DENGAM20.csv\n",
      "Carregando o arquivo: 37 de 214 - /home/ubuntu/Geracao_profiling/DENGUE_CSV/DENGCE20.csv\n",
      "Carregando o arquivo: 38 de 214 - /home/ubuntu/Geracao_profiling/DENGUE_CSV/DENGRJ17.csv\n",
      "Carregando o arquivo: 39 de 214 - /home/ubuntu/Geracao_profiling/DENGUE_CSV/DENGES13.csv\n"
     ]
    },
    {
     "name": "stderr",
     "output_type": "stream",
     "text": [
      "/home/ubuntu/anaconda3/lib/python3.8/site-packages/IPython/core/interactiveshell.py:3071: DtypeWarning: Columns (23,45,47,55,102) have mixed types.Specify dtype option on import or set low_memory=False.\n",
      "  has_raised = await self.run_ast_nodes(code_ast.body, cell_name,\n",
      "/home/ubuntu/anaconda3/lib/python3.8/site-packages/IPython/core/interactiveshell.py:3071: DtypeWarning: Columns (55,57,75) have mixed types.Specify dtype option on import or set low_memory=False.\n",
      "  has_raised = await self.run_ast_nodes(code_ast.body, cell_name,\n",
      "/home/ubuntu/anaconda3/lib/python3.8/site-packages/IPython/core/interactiveshell.py:3071: DtypeWarning: Columns (45) have mixed types.Specify dtype option on import or set low_memory=False.\n",
      "  has_raised = await self.run_ast_nodes(code_ast.body, cell_name,\n"
     ]
    },
    {
     "name": "stdout",
     "output_type": "stream",
     "text": [
      "Carregando o arquivo: 40 de 214 - /home/ubuntu/Geracao_profiling/DENGUE_CSV/DENGAC16.csv\n",
      "Carregando o arquivo: 41 de 214 - /home/ubuntu/Geracao_profiling/DENGUE_CSV/DENGCE17.csv\n",
      "Carregando o arquivo: 42 de 214 - /home/ubuntu/Geracao_profiling/DENGUE_CSV/DENGMA13.csv\n",
      "Carregando o arquivo: 43 de 214 - /home/ubuntu/Geracao_profiling/DENGUE_CSV/DENGRS18.csv\n",
      "Carregando o arquivo: 44 de 214 - /home/ubuntu/Geracao_profiling/DENGUE_CSV/DENGMA20.csv\n",
      "Carregando o arquivo: 45 de 214 - /home/ubuntu/Geracao_profiling/DENGUE_CSV/DENGPA18.csv\n"
     ]
    },
    {
     "name": "stderr",
     "output_type": "stream",
     "text": [
      "/home/ubuntu/anaconda3/lib/python3.8/site-packages/IPython/core/interactiveshell.py:3071: DtypeWarning: Columns (46,102) have mixed types.Specify dtype option on import or set low_memory=False.\n",
      "  has_raised = await self.run_ast_nodes(code_ast.body, cell_name,\n"
     ]
    },
    {
     "name": "stdout",
     "output_type": "stream",
     "text": [
      "Carregando o arquivo: 46 de 214 - /home/ubuntu/Geracao_profiling/DENGUE_CSV/DENGES20.csv\n",
      "Carregando o arquivo: 47 de 214 - /home/ubuntu/Geracao_profiling/DENGUE_CSV/DENGBA13.csv\n",
      "Carregando o arquivo: 48 de 214 - /home/ubuntu/Geracao_profiling/DENGUE_CSV/DENGAM18.csv\n",
      "Carregando o arquivo: 49 de 214 - /home/ubuntu/Geracao_profiling/DENGUE_CSV/DENGGO14.csv\n"
     ]
    },
    {
     "name": "stderr",
     "output_type": "stream",
     "text": [
      "/home/ubuntu/anaconda3/lib/python3.8/site-packages/IPython/core/interactiveshell.py:3071: DtypeWarning: Columns (23,51,53,55,57,63,75) have mixed types.Specify dtype option on import or set low_memory=False.\n",
      "  has_raised = await self.run_ast_nodes(code_ast.body, cell_name,\n"
     ]
    },
    {
     "name": "stdout",
     "output_type": "stream",
     "text": [
      "Carregando o arquivo: 50 de 214 - /home/ubuntu/Geracao_profiling/DENGUE_CSV/DENGES15.csv\n",
      "Carregando o arquivo: 51 de 214 - /home/ubuntu/Geracao_profiling/DENGUE_CSV/DENGSP19.csv\n",
      "Carregando o arquivo: 52 de 214 - /home/ubuntu/Geracao_profiling/DENGUE_CSV/DENGPE16.csv\n"
     ]
    },
    {
     "name": "stderr",
     "output_type": "stream",
     "text": [
      "/home/ubuntu/anaconda3/lib/python3.8/site-packages/IPython/core/interactiveshell.py:3071: DtypeWarning: Columns (23,45,46,47,53,55,57,63,75,86,102) have mixed types.Specify dtype option on import or set low_memory=False.\n",
      "  has_raised = await self.run_ast_nodes(code_ast.body, cell_name,\n"
     ]
    },
    {
     "name": "stdout",
     "output_type": "stream",
     "text": [
      "Carregando o arquivo: 53 de 214 - /home/ubuntu/Geracao_profiling/DENGUE_CSV/DENGRR19.csv\n",
      "Carregando o arquivo: 54 de 214 - /home/ubuntu/Geracao_profiling/DENGUE_CSV/DENGRS15.csv\n",
      "Carregando o arquivo: 55 de 214 - /home/ubuntu/Geracao_profiling/DENGUE_CSV/DENGRJ18.csv\n"
     ]
    },
    {
     "name": "stderr",
     "output_type": "stream",
     "text": [
      "/home/ubuntu/anaconda3/lib/python3.8/site-packages/IPython/core/interactiveshell.py:3071: DtypeWarning: Columns (23,46,47,86,102) have mixed types.Specify dtype option on import or set low_memory=False.\n",
      "  has_raised = await self.run_ast_nodes(code_ast.body, cell_name,\n",
      "/home/ubuntu/anaconda3/lib/python3.8/site-packages/IPython/core/interactiveshell.py:3071: DtypeWarning: Columns (23,45,47,86,102) have mixed types.Specify dtype option on import or set low_memory=False.\n",
      "  has_raised = await self.run_ast_nodes(code_ast.body, cell_name,\n"
     ]
    },
    {
     "name": "stdout",
     "output_type": "stream",
     "text": [
      "Carregando o arquivo: 56 de 214 - /home/ubuntu/Geracao_profiling/DENGUE_CSV/DENGPI16.csv\n",
      "Carregando o arquivo: 57 de 214 - /home/ubuntu/Geracao_profiling/DENGUE_CSV/DENGMA17.csv\n",
      "Carregando o arquivo: 58 de 214 - /home/ubuntu/Geracao_profiling/DENGUE_CSV/DENGPA16.csv\n"
     ]
    },
    {
     "name": "stderr",
     "output_type": "stream",
     "text": [
      "/home/ubuntu/anaconda3/lib/python3.8/site-packages/IPython/core/interactiveshell.py:3071: DtypeWarning: Columns (75,86) have mixed types.Specify dtype option on import or set low_memory=False.\n",
      "  has_raised = await self.run_ast_nodes(code_ast.body, cell_name,\n",
      "/home/ubuntu/anaconda3/lib/python3.8/site-packages/IPython/core/interactiveshell.py:3071: DtypeWarning: Columns (23,46,102) have mixed types.Specify dtype option on import or set low_memory=False.\n",
      "  has_raised = await self.run_ast_nodes(code_ast.body, cell_name,\n"
     ]
    },
    {
     "name": "stdout",
     "output_type": "stream",
     "text": [
      "Carregando o arquivo: 59 de 214 - /home/ubuntu/Geracao_profiling/DENGUE_CSV/DENGES16.csv\n"
     ]
    },
    {
     "name": "stderr",
     "output_type": "stream",
     "text": [
      "/home/ubuntu/anaconda3/lib/python3.8/site-packages/IPython/core/interactiveshell.py:3071: DtypeWarning: Columns (23,45,102) have mixed types.Specify dtype option on import or set low_memory=False.\n",
      "  has_raised = await self.run_ast_nodes(code_ast.body, cell_name,\n"
     ]
    },
    {
     "name": "stdout",
     "output_type": "stream",
     "text": [
      "Carregando o arquivo: 60 de 214 - /home/ubuntu/Geracao_profiling/DENGUE_CSV/DENGSP17.csv\n"
     ]
    },
    {
     "name": "stderr",
     "output_type": "stream",
     "text": [
      "/home/ubuntu/anaconda3/lib/python3.8/site-packages/IPython/core/interactiveshell.py:3071: DtypeWarning: Columns (47,102) have mixed types.Specify dtype option on import or set low_memory=False.\n",
      "  has_raised = await self.run_ast_nodes(code_ast.body, cell_name,\n"
     ]
    },
    {
     "name": "stdout",
     "output_type": "stream",
     "text": [
      "Carregando o arquivo: 61 de 214 - /home/ubuntu/Geracao_profiling/DENGUE_CSV/DENGPB16.csv\n"
     ]
    },
    {
     "name": "stderr",
     "output_type": "stream",
     "text": [
      "/home/ubuntu/anaconda3/lib/python3.8/site-packages/IPython/core/interactiveshell.py:3071: DtypeWarning: Columns (23,45,47,55,57,86,102) have mixed types.Specify dtype option on import or set low_memory=False.\n",
      "  has_raised = await self.run_ast_nodes(code_ast.body, cell_name,\n"
     ]
    },
    {
     "name": "stdout",
     "output_type": "stream",
     "text": [
      "Carregando o arquivo: 62 de 214 - /home/ubuntu/Geracao_profiling/DENGUE_CSV/DENGDF13.csv\n",
      "Carregando o arquivo: 63 de 214 - /home/ubuntu/Geracao_profiling/DENGUE_CSV/DENGPB15.csv\n"
     ]
    },
    {
     "name": "stderr",
     "output_type": "stream",
     "text": [
      "/home/ubuntu/anaconda3/lib/python3.8/site-packages/IPython/core/interactiveshell.py:3071: DtypeWarning: Columns (23,57,75) have mixed types.Specify dtype option on import or set low_memory=False.\n",
      "  has_raised = await self.run_ast_nodes(code_ast.body, cell_name,\n"
     ]
    },
    {
     "name": "stdout",
     "output_type": "stream",
     "text": [
      "Carregando o arquivo: 64 de 214 - /home/ubuntu/Geracao_profiling/DENGUE_CSV/DENGSP13.csv\n"
     ]
    },
    {
     "name": "stderr",
     "output_type": "stream",
     "text": [
      "/home/ubuntu/anaconda3/lib/python3.8/site-packages/IPython/core/interactiveshell.py:3071: DtypeWarning: Columns (53,55,57,63,75) have mixed types.Specify dtype option on import or set low_memory=False.\n",
      "  has_raised = await self.run_ast_nodes(code_ast.body, cell_name,\n"
     ]
    },
    {
     "name": "stdout",
     "output_type": "stream",
     "text": [
      "Carregando o arquivo: 65 de 214 - /home/ubuntu/Geracao_profiling/DENGUE_CSV/DENGMG13.csv\n",
      "Carregando o arquivo: 66 de 214 - /home/ubuntu/Geracao_profiling/DENGUE_CSV/DENGAL15.csv\n"
     ]
    },
    {
     "name": "stderr",
     "output_type": "stream",
     "text": [
      "/home/ubuntu/anaconda3/lib/python3.8/site-packages/IPython/core/interactiveshell.py:3071: DtypeWarning: Columns (23,86,102) have mixed types.Specify dtype option on import or set low_memory=False.\n",
      "  has_raised = await self.run_ast_nodes(code_ast.body, cell_name,\n"
     ]
    },
    {
     "name": "stdout",
     "output_type": "stream",
     "text": [
      "Carregando o arquivo: 67 de 214 - /home/ubuntu/Geracao_profiling/DENGUE_CSV/DENGAP18.csv\n",
      "Carregando o arquivo: 68 de 214 - /home/ubuntu/Geracao_profiling/DENGUE_CSV/DENGPA20.csv\n",
      "Carregando o arquivo: 69 de 214 - /home/ubuntu/Geracao_profiling/DENGUE_CSV/DENGSP16.csv\n"
     ]
    },
    {
     "name": "stderr",
     "output_type": "stream",
     "text": [
      "/home/ubuntu/anaconda3/lib/python3.8/site-packages/IPython/core/interactiveshell.py:3071: DtypeWarning: Columns (7,11,23,45,47,55,65,69,75,86,102) have mixed types.Specify dtype option on import or set low_memory=False.\n",
      "  has_raised = await self.run_ast_nodes(code_ast.body, cell_name,\n"
     ]
    },
    {
     "name": "stdout",
     "output_type": "stream",
     "text": [
      "Carregando o arquivo: 70 de 214 - /home/ubuntu/Geracao_profiling/DENGUE_CSV/DENGRR20.csv\n",
      "Carregando o arquivo: 71 de 214 - /home/ubuntu/Geracao_profiling/DENGUE_CSV/DENGRN18.csv\n"
     ]
    },
    {
     "name": "stderr",
     "output_type": "stream",
     "text": [
      "/home/ubuntu/anaconda3/lib/python3.8/site-packages/IPython/core/interactiveshell.py:3071: DtypeWarning: Columns (23,45,47) have mixed types.Specify dtype option on import or set low_memory=False.\n",
      "  has_raised = await self.run_ast_nodes(code_ast.body, cell_name,\n"
     ]
    },
    {
     "name": "stdout",
     "output_type": "stream",
     "text": [
      "Carregando o arquivo: 72 de 214 - /home/ubuntu/Geracao_profiling/DENGUE_CSV/DENGRJ20.csv\n",
      "Carregando o arquivo: 73 de 214 - /home/ubuntu/Geracao_profiling/DENGUE_CSV/DENGRN13.csv\n",
      "Carregando o arquivo: 74 de 214 - /home/ubuntu/Geracao_profiling/DENGUE_CSV/DENGES18.csv\n",
      "Carregando o arquivo: 75 de 214 - /home/ubuntu/Geracao_profiling/DENGUE_CSV/DENGAP16.csv\n",
      "Carregando o arquivo: 76 de 214 - /home/ubuntu/Geracao_profiling/DENGUE_CSV/DENGMS13.csv\n"
     ]
    },
    {
     "name": "stderr",
     "output_type": "stream",
     "text": [
      "/home/ubuntu/anaconda3/lib/python3.8/site-packages/IPython/core/interactiveshell.py:3071: DtypeWarning: Columns (22,51,53,55,57,63,75) have mixed types.Specify dtype option on import or set low_memory=False.\n",
      "  has_raised = await self.run_ast_nodes(code_ast.body, cell_name,\n"
     ]
    },
    {
     "name": "stdout",
     "output_type": "stream",
     "text": [
      "Carregando o arquivo: 77 de 214 - /home/ubuntu/Geracao_profiling/DENGUE_CSV/DENGPB13.csv\n",
      "Carregando o arquivo: 78 de 214 - /home/ubuntu/Geracao_profiling/DENGUE_CSV/DENGPE19.csv\n"
     ]
    },
    {
     "name": "stderr",
     "output_type": "stream",
     "text": [
      "/home/ubuntu/anaconda3/lib/python3.8/site-packages/IPython/core/interactiveshell.py:3071: DtypeWarning: Columns (53,55,57,75) have mixed types.Specify dtype option on import or set low_memory=False.\n",
      "  has_raised = await self.run_ast_nodes(code_ast.body, cell_name,\n",
      "/home/ubuntu/anaconda3/lib/python3.8/site-packages/IPython/core/interactiveshell.py:3071: DtypeWarning: Columns (23,47) have mixed types.Specify dtype option on import or set low_memory=False.\n",
      "  has_raised = await self.run_ast_nodes(code_ast.body, cell_name,\n"
     ]
    },
    {
     "name": "stdout",
     "output_type": "stream",
     "text": [
      "Carregando o arquivo: 79 de 214 - /home/ubuntu/Geracao_profiling/DENGUE_CSV/DENGSC15.csv\n",
      "Carregando o arquivo: 80 de 214 - /home/ubuntu/Geracao_profiling/DENGUE_CSV/DENGSC17.csv\n",
      "Carregando o arquivo: 81 de 214 - /home/ubuntu/Geracao_profiling/DENGUE_CSV/DENGMG19.csv\n"
     ]
    },
    {
     "name": "stderr",
     "output_type": "stream",
     "text": [
      "/home/ubuntu/anaconda3/lib/python3.8/site-packages/IPython/core/interactiveshell.py:3071: DtypeWarning: Columns (45,47,55,102) have mixed types.Specify dtype option on import or set low_memory=False.\n",
      "  has_raised = await self.run_ast_nodes(code_ast.body, cell_name,\n"
     ]
    },
    {
     "name": "stdout",
     "output_type": "stream",
     "text": [
      "Carregando o arquivo: 82 de 214 - /home/ubuntu/Geracao_profiling/DENGUE_CSV/DENGPR16.csv\n"
     ]
    },
    {
     "name": "stderr",
     "output_type": "stream",
     "text": [
      "/home/ubuntu/anaconda3/lib/python3.8/site-packages/IPython/core/interactiveshell.py:3071: DtypeWarning: Columns (45,46,47,102) have mixed types.Specify dtype option on import or set low_memory=False.\n",
      "  has_raised = await self.run_ast_nodes(code_ast.body, cell_name,\n"
     ]
    },
    {
     "name": "stdout",
     "output_type": "stream",
     "text": [
      "Carregando o arquivo: 83 de 214 - /home/ubuntu/Geracao_profiling/DENGUE_CSV/DENGRO16.csv\n",
      "Carregando o arquivo: 84 de 214 - /home/ubuntu/Geracao_profiling/DENGUE_CSV/DENGRS14.csv\n",
      "Carregando o arquivo: 85 de 214 - /home/ubuntu/Geracao_profiling/DENGUE_CSV/DENGRR13.csv\n",
      "Carregando o arquivo: 86 de 214 - /home/ubuntu/Geracao_profiling/DENGUE_CSV/DENGMG17.csv\n"
     ]
    },
    {
     "name": "stderr",
     "output_type": "stream",
     "text": [
      "/home/ubuntu/anaconda3/lib/python3.8/site-packages/IPython/core/interactiveshell.py:3071: DtypeWarning: Columns (23,46,47) have mixed types.Specify dtype option on import or set low_memory=False.\n",
      "  has_raised = await self.run_ast_nodes(code_ast.body, cell_name,\n"
     ]
    },
    {
     "name": "stdout",
     "output_type": "stream",
     "text": [
      "Carregando o arquivo: 87 de 214 - /home/ubuntu/Geracao_profiling/DENGUE_CSV/DENGPA14.csv\n",
      "Carregando o arquivo: 88 de 214 - /home/ubuntu/Geracao_profiling/DENGUE_CSV/DENGMG15.csv\n"
     ]
    },
    {
     "name": "stderr",
     "output_type": "stream",
     "text": [
      "/home/ubuntu/anaconda3/lib/python3.8/site-packages/IPython/core/interactiveshell.py:3071: DtypeWarning: Columns (23,51,53,55,57,63,75,86,102) have mixed types.Specify dtype option on import or set low_memory=False.\n",
      "  has_raised = await self.run_ast_nodes(code_ast.body, cell_name,\n"
     ]
    },
    {
     "name": "stdout",
     "output_type": "stream",
     "text": [
      "Carregando o arquivo: 89 de 214 - /home/ubuntu/Geracao_profiling/DENGUE_CSV/DENGMT14.csv\n",
      "Carregando o arquivo: 90 de 214 - /home/ubuntu/Geracao_profiling/DENGUE_CSV/DENGTO14.csv\n",
      "Carregando o arquivo: 91 de 214 - /home/ubuntu/Geracao_profiling/DENGUE_CSV/DENGRR14.csv\n",
      "Carregando o arquivo: 92 de 214 - /home/ubuntu/Geracao_profiling/DENGUE_CSV/DENGSE13.csv\n",
      "Carregando o arquivo: 93 de 214 - /home/ubuntu/Geracao_profiling/DENGUE_CSV/DENGPI13.csv\n",
      "Carregando o arquivo: 94 de 214 - /home/ubuntu/Geracao_profiling/DENGUE_CSV/DENGAM16.csv\n",
      "Carregando o arquivo: 95 de 214 - /home/ubuntu/Geracao_profiling/DENGUE_CSV/DENGPE13.csv\n",
      "Carregando o arquivo: 96 de 214 - /home/ubuntu/Geracao_profiling/DENGUE_CSV/DENGPR17.csv\n"
     ]
    },
    {
     "name": "stderr",
     "output_type": "stream",
     "text": [
      "/home/ubuntu/anaconda3/lib/python3.8/site-packages/IPython/core/interactiveshell.py:3071: DtypeWarning: Columns (57,63,75) have mixed types.Specify dtype option on import or set low_memory=False.\n",
      "  has_raised = await self.run_ast_nodes(code_ast.body, cell_name,\n"
     ]
    },
    {
     "name": "stdout",
     "output_type": "stream",
     "text": [
      "Carregando o arquivo: 97 de 214 - /home/ubuntu/Geracao_profiling/DENGUE_CSV/DENGPA19.csv\n",
      "Carregando o arquivo: 98 de 214 - /home/ubuntu/Geracao_profiling/DENGUE_CSV/DENGMS17.csv\n",
      "Carregando o arquivo: 99 de 214 - /home/ubuntu/Geracao_profiling/DENGUE_CSV/DENGRO14.csv\n",
      "Carregando o arquivo: 100 de 214 - /home/ubuntu/Geracao_profiling/DENGUE_CSV/DENGMS16.csv\n"
     ]
    },
    {
     "name": "stderr",
     "output_type": "stream",
     "text": [
      "/home/ubuntu/anaconda3/lib/python3.8/site-packages/IPython/core/interactiveshell.py:3071: DtypeWarning: Columns (23,45,47,55,63,75,86,102) have mixed types.Specify dtype option on import or set low_memory=False.\n",
      "  has_raised = await self.run_ast_nodes(code_ast.body, cell_name,\n",
      "/home/ubuntu/anaconda3/lib/python3.8/site-packages/IPython/core/interactiveshell.py:3071: DtypeWarning: Columns (23,45,47,55,75,102) have mixed types.Specify dtype option on import or set low_memory=False.\n",
      "  has_raised = await self.run_ast_nodes(code_ast.body, cell_name,\n"
     ]
    },
    {
     "name": "stdout",
     "output_type": "stream",
     "text": [
      "Carregando o arquivo: 101 de 214 - /home/ubuntu/Geracao_profiling/DENGUE_CSV/DENGPB20.csv\n",
      "Carregando o arquivo: 102 de 214 - /home/ubuntu/Geracao_profiling/DENGUE_CSV/DENGSC19.csv\n",
      "Carregando o arquivo: 103 de 214 - /home/ubuntu/Geracao_profiling/DENGUE_CSV/DENGGO15.csv\n",
      "Carregando o arquivo: 104 de 214 - /home/ubuntu/Geracao_profiling/DENGUE_CSV/DENGAC14.csv\n",
      "Carregando o arquivo: 105 de 214 - /home/ubuntu/Geracao_profiling/DENGUE_CSV/DENGDF14.csv\n",
      "Carregando o arquivo: 106 de 214 - /home/ubuntu/Geracao_profiling/DENGUE_CSV/DENGGO20.csv\n"
     ]
    },
    {
     "name": "stderr",
     "output_type": "stream",
     "text": [
      "/home/ubuntu/anaconda3/lib/python3.8/site-packages/IPython/core/interactiveshell.py:3071: DtypeWarning: Columns (45,46,47) have mixed types.Specify dtype option on import or set low_memory=False.\n",
      "  has_raised = await self.run_ast_nodes(code_ast.body, cell_name,\n"
     ]
    },
    {
     "name": "stdout",
     "output_type": "stream",
     "text": [
      "Carregando o arquivo: 107 de 214 - /home/ubuntu/Geracao_profiling/DENGUE_CSV/DENGRN20.csv\n",
      "Carregando o arquivo: 108 de 214 - /home/ubuntu/Geracao_profiling/DENGUE_CSV/DENGRS19.csv\n",
      "Carregando o arquivo: 109 de 214 - /home/ubuntu/Geracao_profiling/DENGUE_CSV/DENGRJ14.csv\n",
      "Carregando o arquivo: 110 de 214 - /home/ubuntu/Geracao_profiling/DENGUE_CSV/DENGTO13.csv\n",
      "Carregando o arquivo: 111 de 214 - /home/ubuntu/Geracao_profiling/DENGUE_CSV/DENGSE14.csv\n",
      "Carregando o arquivo: 112 de 214 - /home/ubuntu/Geracao_profiling/DENGUE_CSV/DENGMS18.csv\n",
      "Carregando o arquivo: 113 de 214 - /home/ubuntu/Geracao_profiling/DENGUE_CSV/DENGPE18.csv\n",
      "Carregando o arquivo: 114 de 214 - /home/ubuntu/Geracao_profiling/DENGUE_CSV/DENGBA19.csv\n"
     ]
    },
    {
     "name": "stderr",
     "output_type": "stream",
     "text": [
      "/home/ubuntu/anaconda3/lib/python3.8/site-packages/IPython/core/interactiveshell.py:3071: DtypeWarning: Columns (23,45,47,51,53,55,57,63,75,86,102) have mixed types.Specify dtype option on import or set low_memory=False.\n",
      "  has_raised = await self.run_ast_nodes(code_ast.body, cell_name,\n"
     ]
    },
    {
     "name": "stdout",
     "output_type": "stream",
     "text": [
      "Carregando o arquivo: 115 de 214 - /home/ubuntu/Geracao_profiling/DENGUE_CSV/DENGPI17.csv\n",
      "Carregando o arquivo: 116 de 214 - /home/ubuntu/Geracao_profiling/DENGUE_CSV/DENGCE13.csv\n",
      "Carregando o arquivo: 117 de 214 - /home/ubuntu/Geracao_profiling/DENGUE_CSV/DENGRN15.csv\n",
      "Carregando o arquivo: 118 de 214 - /home/ubuntu/Geracao_profiling/DENGUE_CSV/DENGDF17.csv\n",
      "Carregando o arquivo: 119 de 214 - /home/ubuntu/Geracao_profiling/DENGUE_CSV/DENGMT16.csv\n"
     ]
    },
    {
     "name": "stderr",
     "output_type": "stream",
     "text": [
      "/home/ubuntu/anaconda3/lib/python3.8/site-packages/IPython/core/interactiveshell.py:3071: DtypeWarning: Columns (45,86,102) have mixed types.Specify dtype option on import or set low_memory=False.\n",
      "  has_raised = await self.run_ast_nodes(code_ast.body, cell_name,\n"
     ]
    },
    {
     "name": "stdout",
     "output_type": "stream",
     "text": [
      "Carregando o arquivo: 120 de 214 - /home/ubuntu/Geracao_profiling/DENGUE_CSV/DENGRS20.csv\n",
      "Carregando o arquivo: 121 de 214 - /home/ubuntu/Geracao_profiling/DENGUE_CSV/DENGSE15.csv\n",
      "Carregando o arquivo: 122 de 214 - /home/ubuntu/Geracao_profiling/DENGUE_CSV/DENGCE18.csv\n",
      "Carregando o arquivo: 123 de 214 - /home/ubuntu/Geracao_profiling/DENGUE_CSV/DENGCE16.csv\n"
     ]
    },
    {
     "name": "stderr",
     "output_type": "stream",
     "text": [
      "/home/ubuntu/anaconda3/lib/python3.8/site-packages/IPython/core/interactiveshell.py:3071: DtypeWarning: Columns (23,45,46,47,55,57,75,102) have mixed types.Specify dtype option on import or set low_memory=False.\n",
      "  has_raised = await self.run_ast_nodes(code_ast.body, cell_name,\n"
     ]
    },
    {
     "name": "stdout",
     "output_type": "stream",
     "text": [
      "Carregando o arquivo: 124 de 214 - /home/ubuntu/Geracao_profiling/DENGUE_CSV/DENGSP20.csv\n"
     ]
    },
    {
     "name": "stderr",
     "output_type": "stream",
     "text": [
      "/home/ubuntu/anaconda3/lib/python3.8/site-packages/IPython/core/interactiveshell.py:3071: DtypeWarning: Columns (45,47,75,102) have mixed types.Specify dtype option on import or set low_memory=False.\n",
      "  has_raised = await self.run_ast_nodes(code_ast.body, cell_name,\n"
     ]
    },
    {
     "name": "stdout",
     "output_type": "stream",
     "text": [
      "Carregando o arquivo: 125 de 214 - /home/ubuntu/Geracao_profiling/DENGUE_CSV/DENGRN19.csv\n",
      "Carregando o arquivo: 126 de 214 - /home/ubuntu/Geracao_profiling/DENGUE_CSV/DENGAL13.csv\n",
      "Carregando o arquivo: 127 de 214 - /home/ubuntu/Geracao_profiling/DENGUE_CSV/DENGPR19.csv\n",
      "Carregando o arquivo: 128 de 214 - /home/ubuntu/Geracao_profiling/DENGUE_CSV/DENGSE18.csv\n",
      "Carregando o arquivo: 129 de 214 - /home/ubuntu/Geracao_profiling/DENGUE_CSV/DENGAC17.csv\n",
      "Carregando o arquivo: 130 de 214 - /home/ubuntu/Geracao_profiling/DENGUE_CSV/DENGMS15.csv\n"
     ]
    },
    {
     "name": "stderr",
     "output_type": "stream",
     "text": [
      "/home/ubuntu/anaconda3/lib/python3.8/site-packages/IPython/core/interactiveshell.py:3071: DtypeWarning: Columns (23,86) have mixed types.Specify dtype option on import or set low_memory=False.\n",
      "  has_raised = await self.run_ast_nodes(code_ast.body, cell_name,\n"
     ]
    },
    {
     "name": "stdout",
     "output_type": "stream",
     "text": [
      "Carregando o arquivo: 131 de 214 - /home/ubuntu/Geracao_profiling/DENGUE_CSV/DENGPR20.csv\n",
      "Carregando o arquivo: 132 de 214 - /home/ubuntu/Geracao_profiling/DENGUE_CSV/DENGPE17.csv\n",
      "Carregando o arquivo: 133 de 214 - /home/ubuntu/Geracao_profiling/DENGUE_CSV/DENGAL18.csv\n",
      "Carregando o arquivo: 134 de 214 - /home/ubuntu/Geracao_profiling/DENGUE_CSV/DENGBA20.csv\n",
      "Carregando o arquivo: 135 de 214 - /home/ubuntu/Geracao_profiling/DENGUE_CSV/DENGES14.csv\n",
      "Carregando o arquivo: 136 de 214 - /home/ubuntu/Geracao_profiling/DENGUE_CSV/DENGRN17.csv\n",
      "Carregando o arquivo: 137 de 214 - /home/ubuntu/Geracao_profiling/DENGUE_CSV/DENGCE14.csv\n"
     ]
    },
    {
     "name": "stderr",
     "output_type": "stream",
     "text": [
      "/home/ubuntu/anaconda3/lib/python3.8/site-packages/IPython/core/interactiveshell.py:3071: DtypeWarning: Columns (23,55,57) have mixed types.Specify dtype option on import or set low_memory=False.\n",
      "  has_raised = await self.run_ast_nodes(code_ast.body, cell_name,\n"
     ]
    },
    {
     "name": "stdout",
     "output_type": "stream",
     "text": [
      "Carregando o arquivo: 138 de 214 - /home/ubuntu/Geracao_profiling/DENGUE_CSV/DENGBA16.csv\n"
     ]
    },
    {
     "name": "stderr",
     "output_type": "stream",
     "text": [
      "/home/ubuntu/anaconda3/lib/python3.8/site-packages/IPython/core/interactiveshell.py:3071: DtypeWarning: Columns (23,47,57,86,102) have mixed types.Specify dtype option on import or set low_memory=False.\n",
      "  has_raised = await self.run_ast_nodes(code_ast.body, cell_name,\n"
     ]
    },
    {
     "name": "stdout",
     "output_type": "stream",
     "text": [
      "Carregando o arquivo: 139 de 214 - /home/ubuntu/Geracao_profiling/DENGUE_CSV/DENGBA17.csv\n",
      "Carregando o arquivo: 140 de 214 - /home/ubuntu/Geracao_profiling/DENGUE_CSV/DENGCE15.csv\n"
     ]
    },
    {
     "name": "stderr",
     "output_type": "stream",
     "text": [
      "/home/ubuntu/anaconda3/lib/python3.8/site-packages/IPython/core/interactiveshell.py:3071: DtypeWarning: Columns (86) have mixed types.Specify dtype option on import or set low_memory=False.\n",
      "  has_raised = await self.run_ast_nodes(code_ast.body, cell_name,\n"
     ]
    },
    {
     "name": "stdout",
     "output_type": "stream",
     "text": [
      "Carregando o arquivo: 141 de 214 - /home/ubuntu/Geracao_profiling/DENGUE_CSV/DENGAC18.csv\n",
      "Carregando o arquivo: 142 de 214 - /home/ubuntu/Geracao_profiling/DENGUE_CSV/DENGAC19.csv\n"
     ]
    },
    {
     "name": "stderr",
     "output_type": "stream",
     "text": [
      "/home/ubuntu/anaconda3/lib/python3.8/site-packages/IPython/core/interactiveshell.py:3071: DtypeWarning: Columns (46,55,57) have mixed types.Specify dtype option on import or set low_memory=False.\n",
      "  has_raised = await self.run_ast_nodes(code_ast.body, cell_name,\n",
      "/home/ubuntu/anaconda3/lib/python3.8/site-packages/IPython/core/interactiveshell.py:3071: DtypeWarning: Columns (23,45,47,55,57,102) have mixed types.Specify dtype option on import or set low_memory=False.\n",
      "  has_raised = await self.run_ast_nodes(code_ast.body, cell_name,\n"
     ]
    },
    {
     "name": "stdout",
     "output_type": "stream",
     "text": [
      "Carregando o arquivo: 143 de 214 - /home/ubuntu/Geracao_profiling/DENGUE_CSV/DENGAM15.csv\n",
      "Carregando o arquivo: 144 de 214 - /home/ubuntu/Geracao_profiling/DENGUE_CSV/DENGTO19.csv\n"
     ]
    },
    {
     "name": "stderr",
     "output_type": "stream",
     "text": [
      "/home/ubuntu/anaconda3/lib/python3.8/site-packages/IPython/core/interactiveshell.py:3071: DtypeWarning: Columns (23,55,57,75) have mixed types.Specify dtype option on import or set low_memory=False.\n",
      "  has_raised = await self.run_ast_nodes(code_ast.body, cell_name,\n",
      "/home/ubuntu/anaconda3/lib/python3.8/site-packages/IPython/core/interactiveshell.py:3071: DtypeWarning: Columns (47,55) have mixed types.Specify dtype option on import or set low_memory=False.\n",
      "  has_raised = await self.run_ast_nodes(code_ast.body, cell_name,\n"
     ]
    },
    {
     "name": "stdout",
     "output_type": "stream",
     "text": [
      "Carregando o arquivo: 145 de 214 - /home/ubuntu/Geracao_profiling/DENGUE_CSV/DENGAL20.csv\n",
      "Carregando o arquivo: 146 de 214 - /home/ubuntu/Geracao_profiling/DENGUE_CSV/DENGMT15.csv\n"
     ]
    },
    {
     "name": "stderr",
     "output_type": "stream",
     "text": [
      "/home/ubuntu/anaconda3/lib/python3.8/site-packages/IPython/core/interactiveshell.py:3071: DtypeWarning: Columns (86,102) have mixed types.Specify dtype option on import or set low_memory=False.\n",
      "  has_raised = await self.run_ast_nodes(code_ast.body, cell_name,\n"
     ]
    },
    {
     "name": "stdout",
     "output_type": "stream",
     "text": [
      "Carregando o arquivo: 147 de 214 - /home/ubuntu/Geracao_profiling/DENGUE_CSV/DENGMG16.csv\n"
     ]
    },
    {
     "name": "stderr",
     "output_type": "stream",
     "text": [
      "/home/ubuntu/anaconda3/lib/python3.8/site-packages/IPython/core/interactiveshell.py:3071: DtypeWarning: Columns (23,45,51,53,55,57,63,75,86,102) have mixed types.Specify dtype option on import or set low_memory=False.\n",
      "  has_raised = await self.run_ast_nodes(code_ast.body, cell_name,\n"
     ]
    },
    {
     "name": "stdout",
     "output_type": "stream",
     "text": [
      "Carregando o arquivo: 148 de 214 - /home/ubuntu/Geracao_profiling/DENGUE_CSV/DENGMG20.csv\n",
      "Carregando o arquivo: 149 de 214 - /home/ubuntu/Geracao_profiling/DENGUE_CSV/DENGTO15.csv\n",
      "Carregando o arquivo: 150 de 214 - /home/ubuntu/Geracao_profiling/DENGUE_CSV/DENGMG18.csv\n",
      "Carregando o arquivo: 151 de 214 - /home/ubuntu/Geracao_profiling/DENGUE_CSV/DENGAC15.csv\n",
      "Carregando o arquivo: 152 de 214 - /home/ubuntu/Geracao_profiling/DENGUE_CSV/DENGRS16.csv\n"
     ]
    },
    {
     "name": "stderr",
     "output_type": "stream",
     "text": [
      "/home/ubuntu/anaconda3/lib/python3.8/site-packages/IPython/core/interactiveshell.py:3071: DtypeWarning: Columns (102) have mixed types.Specify dtype option on import or set low_memory=False.\n",
      "  has_raised = await self.run_ast_nodes(code_ast.body, cell_name,\n",
      "/home/ubuntu/anaconda3/lib/python3.8/site-packages/IPython/core/interactiveshell.py:3071: DtypeWarning: Columns (23,45,47,86) have mixed types.Specify dtype option on import or set low_memory=False.\n",
      "  has_raised = await self.run_ast_nodes(code_ast.body, cell_name,\n"
     ]
    },
    {
     "name": "stdout",
     "output_type": "stream",
     "text": [
      "Carregando o arquivo: 153 de 214 - /home/ubuntu/Geracao_profiling/DENGUE_CSV/DENGAP17.csv\n",
      "Carregando o arquivo: 154 de 214 - /home/ubuntu/Geracao_profiling/DENGUE_CSV/DENGRO18.csv\n",
      "Carregando o arquivo: 155 de 214 - /home/ubuntu/Geracao_profiling/DENGUE_CSV/DENGMA16.csv\n",
      "Carregando o arquivo: 156 de 214 - /home/ubuntu/Geracao_profiling/DENGUE_CSV/DENGMA18.csv\n",
      "Carregando o arquivo: 157 de 214 - /home/ubuntu/Geracao_profiling/DENGUE_CSV/DENGTO18.csv\n",
      "Carregando o arquivo: 158 de 214 - /home/ubuntu/Geracao_profiling/DENGUE_CSV/DENGSC13.csv\n",
      "Carregando o arquivo: 159 de 214 - /home/ubuntu/Geracao_profiling/DENGUE_CSV/DENGPI15.csv\n",
      "Carregando o arquivo: 160 de 214 - /home/ubuntu/Geracao_profiling/DENGUE_CSV/DENGPI19.csv\n",
      "Carregando o arquivo: 161 de 214 - /home/ubuntu/Geracao_profiling/DENGUE_CSV/DENGMA19.csv\n",
      "Carregando o arquivo: 162 de 214 - /home/ubuntu/Geracao_profiling/DENGUE_CSV/DENGRN14.csv\n",
      "Carregando o arquivo: 163 de 214 - /home/ubuntu/Geracao_profiling/DENGUE_CSV/DENGPA13.csv\n",
      "Carregando o arquivo: 164 de 214 - /home/ubuntu/Geracao_profiling/DENGUE_CSV/DENGAP14.csv\n",
      "Carregando o arquivo: 165 de 214 - /home/ubuntu/Geracao_profiling/DENGUE_CSV/DENGSC20.csv\n",
      "Carregando o arquivo: 166 de 214 - /home/ubuntu/Geracao_profiling/DENGUE_CSV/DENGRO20.csv\n",
      "Carregando o arquivo: 167 de 214 - /home/ubuntu/Geracao_profiling/DENGUE_CSV/DENGSE17.csv\n",
      "Carregando o arquivo: 168 de 214 - /home/ubuntu/Geracao_profiling/DENGUE_CSV/DENGMS14.csv\n",
      "Carregando o arquivo: 169 de 214 - /home/ubuntu/Geracao_profiling/DENGUE_CSV/DENGSP15.csv\n",
      "Carregando o arquivo: 170 de 214 - /home/ubuntu/Geracao_profiling/DENGUE_CSV/DENGRR18.csv\n",
      "Carregando o arquivo: 171 de 214 - /home/ubuntu/Geracao_profiling/DENGUE_CSV/DENGPA17.csv\n",
      "Carregando o arquivo: 172 de 214 - /home/ubuntu/Geracao_profiling/DENGUE_CSV/DENGMT17.csv\n",
      "Carregando o arquivo: 173 de 214 - /home/ubuntu/Geracao_profiling/DENGUE_CSV/DENGRR15.csv\n",
      "Carregando o arquivo: 174 de 214 - /home/ubuntu/Geracao_profiling/DENGUE_CSV/DENGMS19.csv\n",
      "Carregando o arquivo: 175 de 214 - /home/ubuntu/Geracao_profiling/DENGUE_CSV/DENGRO17.csv\n",
      "Carregando o arquivo: 176 de 214 - /home/ubuntu/Geracao_profiling/DENGUE_CSV/DENGMT18.csv\n",
      "Carregando o arquivo: 177 de 214 - /home/ubuntu/Geracao_profiling/DENGUE_CSV/DENGAC20.csv\n"
     ]
    },
    {
     "name": "stderr",
     "output_type": "stream",
     "text": [
      "/home/ubuntu/anaconda3/lib/python3.8/site-packages/IPython/core/interactiveshell.py:3071: DtypeWarning: Columns (23,57) have mixed types.Specify dtype option on import or set low_memory=False.\n",
      "  has_raised = await self.run_ast_nodes(code_ast.body, cell_name,\n"
     ]
    },
    {
     "name": "stdout",
     "output_type": "stream",
     "text": [
      "Carregando o arquivo: 178 de 214 - /home/ubuntu/Geracao_profiling/DENGUE_CSV/DENGGO19.csv\n",
      "Carregando o arquivo: 179 de 214 - /home/ubuntu/Geracao_profiling/DENGUE_CSV/DENGTO17.csv\n",
      "Carregando o arquivo: 180 de 214 - /home/ubuntu/Geracao_profiling/DENGUE_CSV/DENGPE15.csv\n",
      "Carregando o arquivo: 181 de 214 - /home/ubuntu/Geracao_profiling/DENGUE_CSV/DENGAL19.csv\n",
      "Carregando o arquivo: 182 de 214 - /home/ubuntu/Geracao_profiling/DENGUE_CSV/DENGAP20.csv\n",
      "Carregando o arquivo: 183 de 214 - /home/ubuntu/Geracao_profiling/DENGUE_CSV/DENGRJ13.csv\n",
      "Carregando o arquivo: 184 de 214 - /home/ubuntu/Geracao_profiling/DENGUE_CSV/DENGPR13.csv\n",
      "Carregando o arquivo: 185 de 214 - /home/ubuntu/Geracao_profiling/DENGUE_CSV/DENGPE14.csv\n",
      "Carregando o arquivo: 186 de 214 - /home/ubuntu/Geracao_profiling/DENGUE_CSV/DENGES17.csv\n",
      "Carregando o arquivo: 187 de 214 - /home/ubuntu/Geracao_profiling/DENGUE_CSV/DENGGO16.csv\n",
      "Carregando o arquivo: 188 de 214 - /home/ubuntu/Geracao_profiling/DENGUE_CSV/DENGDF19.csv\n",
      "Carregando o arquivo: 189 de 214 - /home/ubuntu/Geracao_profiling/DENGUE_CSV/DENGRJ15.csv\n",
      "Carregando o arquivo: 190 de 214 - /home/ubuntu/Geracao_profiling/DENGUE_CSV/DENGPB17.csv\n",
      "Carregando o arquivo: 191 de 214 - /home/ubuntu/Geracao_profiling/DENGUE_CSV/DENGBA18.csv\n",
      "Carregando o arquivo: 192 de 214 - /home/ubuntu/Geracao_profiling/DENGUE_CSV/DENGGO17.csv\n"
     ]
    },
    {
     "name": "stderr",
     "output_type": "stream",
     "text": [
      "/home/ubuntu/anaconda3/lib/python3.8/site-packages/IPython/core/interactiveshell.py:3071: DtypeWarning: Columns (22,23,45,51,53,55,57,63,75,86,102) have mixed types.Specify dtype option on import or set low_memory=False.\n",
      "  has_raised = await self.run_ast_nodes(code_ast.body, cell_name,\n"
     ]
    },
    {
     "name": "stdout",
     "output_type": "stream",
     "text": [
      "Carregando o arquivo: 193 de 214 - /home/ubuntu/Geracao_profiling/DENGUE_CSV/DENGSP14.csv\n",
      "Carregando o arquivo: 194 de 214 - /home/ubuntu/Geracao_profiling/DENGUE_CSV/DENGAL16.csv\n"
     ]
    },
    {
     "name": "stderr",
     "output_type": "stream",
     "text": [
      "/home/ubuntu/anaconda3/lib/python3.8/site-packages/IPython/core/interactiveshell.py:3071: DtypeWarning: Columns (23,47,55,57,75,86,102) have mixed types.Specify dtype option on import or set low_memory=False.\n",
      "  has_raised = await self.run_ast_nodes(code_ast.body, cell_name,\n"
     ]
    },
    {
     "name": "stdout",
     "output_type": "stream",
     "text": [
      "Carregando o arquivo: 195 de 214 - /home/ubuntu/Geracao_profiling/DENGUE_CSV/DENGAM13.csv\n",
      "Carregando o arquivo: 196 de 214 - /home/ubuntu/Geracao_profiling/DENGUE_CSV/DENGBA15.csv\n",
      "Carregando o arquivo: 197 de 214 - /home/ubuntu/Geracao_profiling/DENGUE_CSV/DENGMA15.csv\n",
      "Carregando o arquivo: 198 de 214 - /home/ubuntu/Geracao_profiling/DENGUE_CSV/DENGAP15.csv\n",
      "Carregando o arquivo: 199 de 214 - /home/ubuntu/Geracao_profiling/DENGUE_CSV/DENGRO19.csv\n",
      "Carregando o arquivo: 200 de 214 - /home/ubuntu/Geracao_profiling/DENGUE_CSV/DENGCE19.csv\n"
     ]
    },
    {
     "name": "stderr",
     "output_type": "stream",
     "text": [
      "/home/ubuntu/anaconda3/lib/python3.8/site-packages/IPython/core/interactiveshell.py:3071: DtypeWarning: Columns (23,47,55,102) have mixed types.Specify dtype option on import or set low_memory=False.\n",
      "  has_raised = await self.run_ast_nodes(code_ast.body, cell_name,\n"
     ]
    },
    {
     "name": "stdout",
     "output_type": "stream",
     "text": [
      "Carregando o arquivo: 201 de 214 - /home/ubuntu/Geracao_profiling/DENGUE_CSV/DENGPI14.csv\n",
      "Carregando o arquivo: 202 de 214 - /home/ubuntu/Geracao_profiling/DENGUE_CSV/DENGPI18.csv\n",
      "Carregando o arquivo: 203 de 214 - /home/ubuntu/Geracao_profiling/DENGUE_CSV/DENGPI20.csv\n",
      "Carregando o arquivo: 204 de 214 - /home/ubuntu/Geracao_profiling/DENGUE_CSV/DENGAP19.csv\n",
      "Carregando o arquivo: 205 de 214 - /home/ubuntu/Geracao_profiling/DENGUE_CSV/DENGMT20.csv\n",
      "Carregando o arquivo: 206 de 214 - /home/ubuntu/Geracao_profiling/DENGUE_CSV/DENGPA15.csv\n",
      "Carregando o arquivo: 207 de 214 - /home/ubuntu/Geracao_profiling/DENGUE_CSV/DENGPB19.csv\n",
      "Carregando o arquivo: 208 de 214 - /home/ubuntu/Geracao_profiling/DENGUE_CSV/DENGPR15.csv\n",
      "Carregando o arquivo: 209 de 214 - /home/ubuntu/Geracao_profiling/DENGUE_CSV/DENGSP18.csv\n"
     ]
    },
    {
     "name": "stderr",
     "output_type": "stream",
     "text": [
      "/home/ubuntu/anaconda3/lib/python3.8/site-packages/IPython/core/interactiveshell.py:3071: DtypeWarning: Columns (46,47,102) have mixed types.Specify dtype option on import or set low_memory=False.\n",
      "  has_raised = await self.run_ast_nodes(code_ast.body, cell_name,\n"
     ]
    },
    {
     "name": "stdout",
     "output_type": "stream",
     "text": [
      "Carregando o arquivo: 210 de 214 - /home/ubuntu/Geracao_profiling/DENGUE_CSV/DENGPR14.csv\n",
      "Carregando o arquivo: 211 de 214 - /home/ubuntu/Geracao_profiling/DENGUE_CSV/DENGSC16.csv\n",
      "Carregando o arquivo: 212 de 214 - /home/ubuntu/Geracao_profiling/DENGUE_CSV/DENGSE16.csv\n",
      "Carregando o arquivo: 213 de 214 - /home/ubuntu/Geracao_profiling/DENGUE_CSV/DENGAL14.csv\n",
      "Carregando o arquivo: 214 de 214 - /home/ubuntu/Geracao_profiling/DENGUE_CSV/DENGRR16.csv\n",
      "Finalizado: 214\n"
     ]
    },
    {
     "name": "stderr",
     "output_type": "stream",
     "text": [
      "/home/ubuntu/anaconda3/lib/python3.8/site-packages/IPython/core/interactiveshell.py:3071: DtypeWarning: Columns (55,57) have mixed types.Specify dtype option on import or set low_memory=False.\n",
      "  has_raised = await self.run_ast_nodes(code_ast.body, cell_name,\n"
     ]
    }
   ],
   "source": [
    "# files_array = chik_files + dengue_files\n",
    "files_array = dengue_files\n",
    "\n",
    "dfs_array = []\n",
    "\n",
    "for index, file_path in enumerate(files_array):\n",
    "    print(f'Carregando o arquivo: {index + 1} de {len(files_array)} - {file_path}')\n",
    "    dfs_array.append(pd.read_csv(file_path, sep=','))\n",
    "\n",
    "print(f'Finalizado: {len(dfs_array)}')"
   ]
  },
  {
   "cell_type": "code",
   "execution_count": 4,
   "metadata": {},
   "outputs": [
    {
     "data": {
      "text/html": [
       "<div>\n",
       "<style scoped>\n",
       "    .dataframe tbody tr th:only-of-type {\n",
       "        vertical-align: middle;\n",
       "    }\n",
       "\n",
       "    .dataframe tbody tr th {\n",
       "        vertical-align: top;\n",
       "    }\n",
       "\n",
       "    .dataframe thead th {\n",
       "        text-align: right;\n",
       "    }\n",
       "</style>\n",
       "<table border=\"1\" class=\"dataframe\">\n",
       "  <thead>\n",
       "    <tr style=\"text-align: right;\">\n",
       "      <th></th>\n",
       "      <th>Unnamed: 0</th>\n",
       "      <th>TP_NOT</th>\n",
       "      <th>ID_AGRAVO</th>\n",
       "      <th>DT_NOTIFIC</th>\n",
       "      <th>SEM_NOT</th>\n",
       "      <th>NU_ANO</th>\n",
       "      <th>SG_UF_NOT</th>\n",
       "      <th>ID_MUNICIP</th>\n",
       "      <th>ID_REGIONA</th>\n",
       "      <th>ID_UNIDADE</th>\n",
       "      <th>...</th>\n",
       "      <th>LACO_N</th>\n",
       "      <th>PLASMATICO</th>\n",
       "      <th>EVIDENCIA</th>\n",
       "      <th>PLAQ_MENOR</th>\n",
       "      <th>CON_FHD</th>\n",
       "      <th>COMPLICA</th>\n",
       "      <th>TP_SISTEMA</th>\n",
       "      <th>NDUPLIC_N</th>\n",
       "      <th>CS_FLXRET</th>\n",
       "      <th>FLXRECEBI</th>\n",
       "    </tr>\n",
       "  </thead>\n",
       "  <tbody>\n",
       "    <tr>\n",
       "      <th>0</th>\n",
       "      <td>1</td>\n",
       "      <td>2</td>\n",
       "      <td>A90</td>\n",
       "      <td>2018-05-07</td>\n",
       "      <td>201819</td>\n",
       "      <td>2018</td>\n",
       "      <td>25</td>\n",
       "      <td>251620</td>\n",
       "      <td>1426.0</td>\n",
       "      <td>2504537.0</td>\n",
       "      <td>...</td>\n",
       "      <td>NaN</td>\n",
       "      <td>NaN</td>\n",
       "      <td>NaN</td>\n",
       "      <td>NaN</td>\n",
       "      <td>NaN</td>\n",
       "      <td>NaN</td>\n",
       "      <td>2.0</td>\n",
       "      <td>NaN</td>\n",
       "      <td>1.0</td>\n",
       "      <td>NaN</td>\n",
       "    </tr>\n",
       "    <tr>\n",
       "      <th>1</th>\n",
       "      <td>2</td>\n",
       "      <td>2</td>\n",
       "      <td>A90</td>\n",
       "      <td>2018-02-02</td>\n",
       "      <td>201805</td>\n",
       "      <td>2018</td>\n",
       "      <td>25</td>\n",
       "      <td>250840</td>\n",
       "      <td>1426.0</td>\n",
       "      <td>2592266.0</td>\n",
       "      <td>...</td>\n",
       "      <td>NaN</td>\n",
       "      <td>NaN</td>\n",
       "      <td>NaN</td>\n",
       "      <td>NaN</td>\n",
       "      <td>NaN</td>\n",
       "      <td>NaN</td>\n",
       "      <td>2.0</td>\n",
       "      <td>NaN</td>\n",
       "      <td>1.0</td>\n",
       "      <td>NaN</td>\n",
       "    </tr>\n",
       "    <tr>\n",
       "      <th>2</th>\n",
       "      <td>3</td>\n",
       "      <td>2</td>\n",
       "      <td>A90</td>\n",
       "      <td>2018-02-05</td>\n",
       "      <td>201806</td>\n",
       "      <td>2018</td>\n",
       "      <td>25</td>\n",
       "      <td>250840</td>\n",
       "      <td>1426.0</td>\n",
       "      <td>2606399.0</td>\n",
       "      <td>...</td>\n",
       "      <td>NaN</td>\n",
       "      <td>NaN</td>\n",
       "      <td>NaN</td>\n",
       "      <td>NaN</td>\n",
       "      <td>NaN</td>\n",
       "      <td>NaN</td>\n",
       "      <td>2.0</td>\n",
       "      <td>NaN</td>\n",
       "      <td>1.0</td>\n",
       "      <td>NaN</td>\n",
       "    </tr>\n",
       "    <tr>\n",
       "      <th>3</th>\n",
       "      <td>4</td>\n",
       "      <td>2</td>\n",
       "      <td>A90</td>\n",
       "      <td>2018-01-22</td>\n",
       "      <td>201804</td>\n",
       "      <td>2018</td>\n",
       "      <td>25</td>\n",
       "      <td>250840</td>\n",
       "      <td>1426.0</td>\n",
       "      <td>2606399.0</td>\n",
       "      <td>...</td>\n",
       "      <td>NaN</td>\n",
       "      <td>NaN</td>\n",
       "      <td>NaN</td>\n",
       "      <td>NaN</td>\n",
       "      <td>NaN</td>\n",
       "      <td>NaN</td>\n",
       "      <td>2.0</td>\n",
       "      <td>NaN</td>\n",
       "      <td>1.0</td>\n",
       "      <td>NaN</td>\n",
       "    </tr>\n",
       "    <tr>\n",
       "      <th>4</th>\n",
       "      <td>5</td>\n",
       "      <td>2</td>\n",
       "      <td>A90</td>\n",
       "      <td>2018-05-23</td>\n",
       "      <td>201821</td>\n",
       "      <td>2018</td>\n",
       "      <td>25</td>\n",
       "      <td>251080</td>\n",
       "      <td>1422.0</td>\n",
       "      <td>3232514.0</td>\n",
       "      <td>...</td>\n",
       "      <td>NaN</td>\n",
       "      <td>NaN</td>\n",
       "      <td>NaN</td>\n",
       "      <td>NaN</td>\n",
       "      <td>NaN</td>\n",
       "      <td>NaN</td>\n",
       "      <td>2.0</td>\n",
       "      <td>NaN</td>\n",
       "      <td>1.0</td>\n",
       "      <td>NaN</td>\n",
       "    </tr>\n",
       "  </tbody>\n",
       "</table>\n",
       "<p>5 rows × 120 columns</p>\n",
       "</div>"
      ],
      "text/plain": [
       "   Unnamed: 0  TP_NOT ID_AGRAVO  DT_NOTIFIC  SEM_NOT  NU_ANO  SG_UF_NOT  \\\n",
       "0           1       2       A90  2018-05-07   201819    2018         25   \n",
       "1           2       2       A90  2018-02-02   201805    2018         25   \n",
       "2           3       2       A90  2018-02-05   201806    2018         25   \n",
       "3           4       2       A90  2018-01-22   201804    2018         25   \n",
       "4           5       2       A90  2018-05-23   201821    2018         25   \n",
       "\n",
       "  ID_MUNICIP  ID_REGIONA  ID_UNIDADE  ... LACO_N PLASMATICO EVIDENCIA  \\\n",
       "0     251620      1426.0   2504537.0  ...    NaN        NaN       NaN   \n",
       "1     250840      1426.0   2592266.0  ...    NaN        NaN       NaN   \n",
       "2     250840      1426.0   2606399.0  ...    NaN        NaN       NaN   \n",
       "3     250840      1426.0   2606399.0  ...    NaN        NaN       NaN   \n",
       "4     251080      1422.0   3232514.0  ...    NaN        NaN       NaN   \n",
       "\n",
       "   PLAQ_MENOR CON_FHD  COMPLICA  TP_SISTEMA  NDUPLIC_N  CS_FLXRET  FLXRECEBI  \n",
       "0         NaN     NaN       NaN         2.0        NaN        1.0        NaN  \n",
       "1         NaN     NaN       NaN         2.0        NaN        1.0        NaN  \n",
       "2         NaN     NaN       NaN         2.0        NaN        1.0        NaN  \n",
       "3         NaN     NaN       NaN         2.0        NaN        1.0        NaN  \n",
       "4         NaN     NaN       NaN         2.0        NaN        1.0        NaN  \n",
       "\n",
       "[5 rows x 120 columns]"
      ]
     },
     "execution_count": 4,
     "metadata": {},
     "output_type": "execute_result"
    }
   ],
   "source": [
    "df_all = pd.concat(dfs_array, join='inner')\n",
    "df_all.head()"
   ]
  },
  {
   "cell_type": "code",
   "execution_count": 5,
   "metadata": {},
   "outputs": [],
   "source": [
    "df_all.to_csv(\"/home/ubuntu/Geracao_profiling/DengueCompleto.csv\", sep=\",\", index = False)"
   ]
  }
 ],
 "metadata": {
  "kernelspec": {
   "display_name": "Python 3",
   "language": "python",
   "name": "python3"
  },
  "language_info": {
   "codemirror_mode": {
    "name": "ipython",
    "version": 3
   },
   "file_extension": ".py",
   "mimetype": "text/x-python",
   "name": "python",
   "nbconvert_exporter": "python",
   "pygments_lexer": "ipython3",
   "version": "3.8.3"
  }
 },
 "nbformat": 4,
 "nbformat_minor": 4
}
