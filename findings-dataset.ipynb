{
 "cells": [
  {
   "cell_type": "code",
   "execution_count": 92,
   "metadata": {},
   "outputs": [],
   "source": [
    "# Importando o Pandas.\n",
    "import pandas as pd\n",
    "import pandas_profiling"
   ]
  },
  {
   "cell_type": "code",
   "execution_count": 93,
   "metadata": {},
   "outputs": [
    {
     "name": "stderr",
     "output_type": "stream",
     "text": [
      "/home/ubuntu/anaconda3/lib/python3.8/site-packages/IPython/core/interactiveshell.py:3071: DtypeWarning: Columns (10) have mixed types.Specify dtype option on import or set low_memory=False.\n",
      "  has_raised = await self.run_ast_nodes(code_ast.body, cell_name,\n"
     ]
    },
    {
     "data": {
      "text/html": [
       "<div>\n",
       "<style scoped>\n",
       "    .dataframe tbody tr th:only-of-type {\n",
       "        vertical-align: middle;\n",
       "    }\n",
       "\n",
       "    .dataframe tbody tr th {\n",
       "        vertical-align: top;\n",
       "    }\n",
       "\n",
       "    .dataframe thead th {\n",
       "        text-align: right;\n",
       "    }\n",
       "</style>\n",
       "<table border=\"1\" class=\"dataframe\">\n",
       "  <thead>\n",
       "    <tr style=\"text-align: right;\">\n",
       "      <th></th>\n",
       "      <th>DT_NOTIFIC</th>\n",
       "      <th>NU_ANO</th>\n",
       "      <th>DT_NASC</th>\n",
       "      <th>CLASSI_FIN</th>\n",
       "    </tr>\n",
       "  </thead>\n",
       "  <tbody>\n",
       "    <tr>\n",
       "      <th>0</th>\n",
       "      <td>2018-05-07</td>\n",
       "      <td>2018</td>\n",
       "      <td>1995-07-06</td>\n",
       "      <td>DENGUE</td>\n",
       "    </tr>\n",
       "    <tr>\n",
       "      <th>1</th>\n",
       "      <td>2018-02-05</td>\n",
       "      <td>2018</td>\n",
       "      <td>1982-07-05</td>\n",
       "      <td>DENGUE</td>\n",
       "    </tr>\n",
       "    <tr>\n",
       "      <th>2</th>\n",
       "      <td>2018-01-22</td>\n",
       "      <td>2018</td>\n",
       "      <td>1973-01-08</td>\n",
       "      <td>DENGUE</td>\n",
       "    </tr>\n",
       "    <tr>\n",
       "      <th>3</th>\n",
       "      <td>2018-05-07</td>\n",
       "      <td>2018</td>\n",
       "      <td>2014-08-22</td>\n",
       "      <td>OUTRAS_DOENCAS</td>\n",
       "    </tr>\n",
       "    <tr>\n",
       "      <th>4</th>\n",
       "      <td>2018-04-09</td>\n",
       "      <td>2018</td>\n",
       "      <td>2007-09-18</td>\n",
       "      <td>OUTRAS_DOENCAS</td>\n",
       "    </tr>\n",
       "  </tbody>\n",
       "</table>\n",
       "</div>"
      ],
      "text/plain": [
       "   DT_NOTIFIC  NU_ANO     DT_NASC      CLASSI_FIN\n",
       "0  2018-05-07    2018  1995-07-06          DENGUE\n",
       "1  2018-02-05    2018  1982-07-05          DENGUE\n",
       "2  2018-01-22    2018  1973-01-08          DENGUE\n",
       "3  2018-05-07    2018  2014-08-22  OUTRAS_DOENCAS\n",
       "4  2018-04-09    2018  2007-09-18  OUTRAS_DOENCAS"
      ]
     },
     "execution_count": 93,
     "metadata": {},
     "output_type": "execute_result"
    }
   ],
   "source": [
    "df = pd.read_csv(\n",
    "    \"/home/ubuntu/Geracao_profiling/BaseCompleta_processada-final.csv\",\n",
    "    sep=\",\",\n",
    "    usecols=[\"DT_NASC\", \"NU_ANO\", \"DT_NOTIFIC\", \"CLASSI_FIN\"]\n",
    ")\n",
    "df.drop(df.loc[df.DT_NASC == 9].index, inplace=True)\n",
    "df.drop(df.loc[df.DT_NASC == '9'].index, inplace=True)\n",
    "df.head()"
   ]
  },
  {
   "cell_type": "code",
   "execution_count": 94,
   "metadata": {},
   "outputs": [
    {
     "data": {
      "text/html": [
       "<div>\n",
       "<style scoped>\n",
       "    .dataframe tbody tr th:only-of-type {\n",
       "        vertical-align: middle;\n",
       "    }\n",
       "\n",
       "    .dataframe tbody tr th {\n",
       "        vertical-align: top;\n",
       "    }\n",
       "\n",
       "    .dataframe thead th {\n",
       "        text-align: right;\n",
       "    }\n",
       "</style>\n",
       "<table border=\"1\" class=\"dataframe\">\n",
       "  <thead>\n",
       "    <tr style=\"text-align: right;\">\n",
       "      <th></th>\n",
       "      <th>DT_NOTIFIC</th>\n",
       "      <th>NU_ANO</th>\n",
       "      <th>DT_NASC</th>\n",
       "      <th>CLASSI_FIN</th>\n",
       "    </tr>\n",
       "  </thead>\n",
       "  <tbody>\n",
       "    <tr>\n",
       "      <th>0</th>\n",
       "      <td>2018-05-07</td>\n",
       "      <td>2018</td>\n",
       "      <td>1995-07-06</td>\n",
       "      <td>DENGUE</td>\n",
       "    </tr>\n",
       "    <tr>\n",
       "      <th>1</th>\n",
       "      <td>2018-02-05</td>\n",
       "      <td>2018</td>\n",
       "      <td>1982-07-05</td>\n",
       "      <td>DENGUE</td>\n",
       "    </tr>\n",
       "    <tr>\n",
       "      <th>2</th>\n",
       "      <td>2018-01-22</td>\n",
       "      <td>2018</td>\n",
       "      <td>1973-01-08</td>\n",
       "      <td>DENGUE</td>\n",
       "    </tr>\n",
       "    <tr>\n",
       "      <th>3</th>\n",
       "      <td>2018-05-07</td>\n",
       "      <td>2018</td>\n",
       "      <td>2014-08-22</td>\n",
       "      <td>OUTRAS_DOENCAS</td>\n",
       "    </tr>\n",
       "    <tr>\n",
       "      <th>4</th>\n",
       "      <td>2018-04-09</td>\n",
       "      <td>2018</td>\n",
       "      <td>2007-09-18</td>\n",
       "      <td>OUTRAS_DOENCAS</td>\n",
       "    </tr>\n",
       "  </tbody>\n",
       "</table>\n",
       "</div>"
      ],
      "text/plain": [
       "  DT_NOTIFIC  NU_ANO    DT_NASC      CLASSI_FIN\n",
       "0 2018-05-07    2018 1995-07-06          DENGUE\n",
       "1 2018-02-05    2018 1982-07-05          DENGUE\n",
       "2 2018-01-22    2018 1973-01-08          DENGUE\n",
       "3 2018-05-07    2018 2014-08-22  OUTRAS_DOENCAS\n",
       "4 2018-04-09    2018 2007-09-18  OUTRAS_DOENCAS"
      ]
     },
     "execution_count": 94,
     "metadata": {},
     "output_type": "execute_result"
    }
   ],
   "source": [
    "df.DT_NOTIFIC = pd.to_datetime(df.DT_NOTIFIC, format=\"%Y/%m/%d\")\n",
    "df.DT_NASC = pd.to_datetime(df.DT_NASC, format=\"%Y/%m/%d\")\n",
    "df.head()"
   ]
  },
  {
   "cell_type": "code",
   "execution_count": 95,
   "metadata": {},
   "outputs": [
    {
     "data": {
      "text/html": [
       "<div>\n",
       "<style scoped>\n",
       "    .dataframe tbody tr th:only-of-type {\n",
       "        vertical-align: middle;\n",
       "    }\n",
       "\n",
       "    .dataframe tbody tr th {\n",
       "        vertical-align: top;\n",
       "    }\n",
       "\n",
       "    .dataframe thead th {\n",
       "        text-align: right;\n",
       "    }\n",
       "</style>\n",
       "<table border=\"1\" class=\"dataframe\">\n",
       "  <thead>\n",
       "    <tr style=\"text-align: right;\">\n",
       "      <th></th>\n",
       "      <th>DT_NOTIFIC</th>\n",
       "      <th>NU_ANO</th>\n",
       "      <th>DT_NASC</th>\n",
       "      <th>CLASSI_FIN</th>\n",
       "      <th>IDADE_DIF</th>\n",
       "    </tr>\n",
       "  </thead>\n",
       "  <tbody>\n",
       "    <tr>\n",
       "      <th>0</th>\n",
       "      <td>2018-05-07</td>\n",
       "      <td>2018</td>\n",
       "      <td>1995-07-06</td>\n",
       "      <td>DENGUE</td>\n",
       "      <td>8341 days</td>\n",
       "    </tr>\n",
       "    <tr>\n",
       "      <th>1</th>\n",
       "      <td>2018-02-05</td>\n",
       "      <td>2018</td>\n",
       "      <td>1982-07-05</td>\n",
       "      <td>DENGUE</td>\n",
       "      <td>12999 days</td>\n",
       "    </tr>\n",
       "    <tr>\n",
       "      <th>2</th>\n",
       "      <td>2018-01-22</td>\n",
       "      <td>2018</td>\n",
       "      <td>1973-01-08</td>\n",
       "      <td>DENGUE</td>\n",
       "      <td>16450 days</td>\n",
       "    </tr>\n",
       "    <tr>\n",
       "      <th>3</th>\n",
       "      <td>2018-05-07</td>\n",
       "      <td>2018</td>\n",
       "      <td>2014-08-22</td>\n",
       "      <td>OUTRAS_DOENCAS</td>\n",
       "      <td>1354 days</td>\n",
       "    </tr>\n",
       "    <tr>\n",
       "      <th>4</th>\n",
       "      <td>2018-04-09</td>\n",
       "      <td>2018</td>\n",
       "      <td>2007-09-18</td>\n",
       "      <td>OUTRAS_DOENCAS</td>\n",
       "      <td>3856 days</td>\n",
       "    </tr>\n",
       "  </tbody>\n",
       "</table>\n",
       "</div>"
      ],
      "text/plain": [
       "  DT_NOTIFIC  NU_ANO    DT_NASC      CLASSI_FIN  IDADE_DIF\n",
       "0 2018-05-07    2018 1995-07-06          DENGUE  8341 days\n",
       "1 2018-02-05    2018 1982-07-05          DENGUE 12999 days\n",
       "2 2018-01-22    2018 1973-01-08          DENGUE 16450 days\n",
       "3 2018-05-07    2018 2014-08-22  OUTRAS_DOENCAS  1354 days\n",
       "4 2018-04-09    2018 2007-09-18  OUTRAS_DOENCAS  3856 days"
      ]
     },
     "execution_count": 95,
     "metadata": {},
     "output_type": "execute_result"
    }
   ],
   "source": [
    "df[\"IDADE_DIF\"] = df.DT_NOTIFIC - df.DT_NASC\n",
    "df.head()"
   ]
  },
  {
   "cell_type": "code",
   "execution_count": 96,
   "metadata": {},
   "outputs": [
    {
     "data": {
      "text/html": [
       "<div>\n",
       "<style scoped>\n",
       "    .dataframe tbody tr th:only-of-type {\n",
       "        vertical-align: middle;\n",
       "    }\n",
       "\n",
       "    .dataframe tbody tr th {\n",
       "        vertical-align: top;\n",
       "    }\n",
       "\n",
       "    .dataframe thead th {\n",
       "        text-align: right;\n",
       "    }\n",
       "</style>\n",
       "<table border=\"1\" class=\"dataframe\">\n",
       "  <thead>\n",
       "    <tr style=\"text-align: right;\">\n",
       "      <th></th>\n",
       "      <th>DT_NOTIFIC</th>\n",
       "      <th>NU_ANO</th>\n",
       "      <th>DT_NASC</th>\n",
       "      <th>CLASSI_FIN</th>\n",
       "      <th>IDADE_DIF</th>\n",
       "      <th>IDADE</th>\n",
       "    </tr>\n",
       "  </thead>\n",
       "  <tbody>\n",
       "    <tr>\n",
       "      <th>0</th>\n",
       "      <td>2018-05-07</td>\n",
       "      <td>2018</td>\n",
       "      <td>1995-07-06</td>\n",
       "      <td>DENGUE</td>\n",
       "      <td>8341 days</td>\n",
       "      <td>22 days 20:26:57.534246</td>\n",
       "    </tr>\n",
       "    <tr>\n",
       "      <th>1</th>\n",
       "      <td>2018-02-05</td>\n",
       "      <td>2018</td>\n",
       "      <td>1982-07-05</td>\n",
       "      <td>DENGUE</td>\n",
       "      <td>12999 days</td>\n",
       "      <td>35 days 14:43:43.561643</td>\n",
       "    </tr>\n",
       "    <tr>\n",
       "      <th>2</th>\n",
       "      <td>2018-01-22</td>\n",
       "      <td>2018</td>\n",
       "      <td>1973-01-08</td>\n",
       "      <td>DENGUE</td>\n",
       "      <td>16450 days</td>\n",
       "      <td>45 days 01:38:37.808219</td>\n",
       "    </tr>\n",
       "    <tr>\n",
       "      <th>3</th>\n",
       "      <td>2018-05-07</td>\n",
       "      <td>2018</td>\n",
       "      <td>2014-08-22</td>\n",
       "      <td>OUTRAS_DOENCAS</td>\n",
       "      <td>1354 days</td>\n",
       "      <td>3 days 17:01:48.493150</td>\n",
       "    </tr>\n",
       "    <tr>\n",
       "      <th>4</th>\n",
       "      <td>2018-04-09</td>\n",
       "      <td>2018</td>\n",
       "      <td>2007-09-18</td>\n",
       "      <td>OUTRAS_DOENCAS</td>\n",
       "      <td>3856 days</td>\n",
       "      <td>10 days 13:32:42.739726</td>\n",
       "    </tr>\n",
       "  </tbody>\n",
       "</table>\n",
       "</div>"
      ],
      "text/plain": [
       "  DT_NOTIFIC  NU_ANO    DT_NASC      CLASSI_FIN  IDADE_DIF  \\\n",
       "0 2018-05-07    2018 1995-07-06          DENGUE  8341 days   \n",
       "1 2018-02-05    2018 1982-07-05          DENGUE 12999 days   \n",
       "2 2018-01-22    2018 1973-01-08          DENGUE 16450 days   \n",
       "3 2018-05-07    2018 2014-08-22  OUTRAS_DOENCAS  1354 days   \n",
       "4 2018-04-09    2018 2007-09-18  OUTRAS_DOENCAS  3856 days   \n",
       "\n",
       "                    IDADE  \n",
       "0 22 days 20:26:57.534246  \n",
       "1 35 days 14:43:43.561643  \n",
       "2 45 days 01:38:37.808219  \n",
       "3  3 days 17:01:48.493150  \n",
       "4 10 days 13:32:42.739726  "
      ]
     },
     "execution_count": 96,
     "metadata": {},
     "output_type": "execute_result"
    }
   ],
   "source": [
    "df[\"IDADE\"] = df.IDADE_DIF // 365\n",
    "\n",
    "df.head()"
   ]
  },
  {
   "cell_type": "code",
   "execution_count": 97,
   "metadata": {},
   "outputs": [
    {
     "name": "stdout",
     "output_type": "stream",
     "text": [
      "32 days 16:39:39.365269\n",
      "18 days 04:58:41.818967\n"
     ]
    }
   ],
   "source": [
    "print(df.IDADE.mean())\n",
    "print(df.IDADE.std())"
   ]
  },
  {
   "cell_type": "code",
   "execution_count": 98,
   "metadata": {},
   "outputs": [
    {
     "name": "stdout",
     "output_type": "stream",
     "text": [
      "33 days 08:51:53.399271\n",
      "18 days 03:12:20.700930\n"
     ]
    }
   ],
   "source": [
    "dengue = df[df.CLASSI_FIN == \"DENGUE\"]\n",
    "print(dengue.IDADE.mean())\n",
    "print(dengue.IDADE.std())"
   ]
  },
  {
   "cell_type": "code",
   "execution_count": 99,
   "metadata": {},
   "outputs": [
    {
     "name": "stdout",
     "output_type": "stream",
     "text": [
      "37 days 03:15:09.914029\n",
      "20 days 19:11:48.274437\n"
     ]
    }
   ],
   "source": [
    "chika = df[df.CLASSI_FIN == \"CHIKUNGUNYA\"]\n",
    "print(chika.IDADE.mean())\n",
    "print(chika.IDADE.std())"
   ]
  },
  {
   "cell_type": "code",
   "execution_count": 100,
   "metadata": {},
   "outputs": [
    {
     "name": "stdout",
     "output_type": "stream",
     "text": [
      "31 days 06:26:32.234763\n",
      "18 days 06:43:47.161111\n"
     ]
    }
   ],
   "source": [
    "others = df[df.CLASSI_FIN == \"OUTRAS_DOENCAS\"]\n",
    "print(others.IDADE.mean())\n",
    "print(others.IDADE.std())"
   ]
  },
  {
   "cell_type": "code",
   "execution_count": null,
   "metadata": {},
   "outputs": [],
   "source": []
  }
 ],
 "metadata": {
  "kernelspec": {
   "display_name": "Python 3",
   "language": "python",
   "name": "python3"
  },
  "language_info": {
   "codemirror_mode": {
    "name": "ipython",
    "version": 3
   },
   "file_extension": ".py",
   "mimetype": "text/x-python",
   "name": "python",
   "nbconvert_exporter": "python",
   "pygments_lexer": "ipython3",
   "version": "3.8.3"
  }
 },
 "nbformat": 4,
 "nbformat_minor": 4
}
