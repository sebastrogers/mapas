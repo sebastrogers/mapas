{
 "cells": [
  {
   "cell_type": "code",
   "execution_count": 15,
   "metadata": {},
   "outputs": [],
   "source": [
    "import pandas as pd\n",
    "import pandas_profiling"
   ]
  },
  {
   "cell_type": "code",
   "execution_count": 2,
   "metadata": {},
   "outputs": [],
   "source": [
    "sinan_dengue_dir_path = \"/home/ubuntu/Geracao_profiling/DengueCompleto.csv\"\n",
    "df = pd.read_csv(sinan_dengue_dir_path, chunksize = 5000000)"
   ]
  },
  {
   "cell_type": "code",
   "execution_count": 3,
   "metadata": {},
   "outputs": [
    {
     "name": "stderr",
     "output_type": "stream",
     "text": [
      "/home/ubuntu/anaconda3/lib/python3.8/site-packages/IPython/core/interactiveshell.py:3071: DtypeWarning: Columns (7,11,22,23,45,46,47,51,53,55,57,63,65,69,75,86,102) have mixed types.Specify dtype option on import or set low_memory=False.\n",
      "  has_raised = await self.run_ast_nodes(code_ast.body, cell_name,\n",
      "/home/ubuntu/anaconda3/lib/python3.8/site-packages/IPython/core/interactiveshell.py:3071: DtypeWarning: Columns (22,23,45,46,47,51,53,55,57,63,75,86,102) have mixed types.Specify dtype option on import or set low_memory=False.\n",
      "  has_raised = await self.run_ast_nodes(code_ast.body, cell_name,\n"
     ]
    }
   ],
   "source": [
    "all_datasets_sinan = []\n",
    "for data in df:\n",
    "    data = data[data.CRITERIO == 2]\n",
    "    all_datasets_sinan.append(data)"
   ]
  },
  {
   "cell_type": "code",
   "execution_count": 4,
   "metadata": {},
   "outputs": [
    {
     "data": {
      "text/plain": [
       "(6191630, 120)"
      ]
     },
     "execution_count": 4,
     "metadata": {},
     "output_type": "execute_result"
    }
   ],
   "source": [
    "df1 = pd.concat(all_datasets_sinan, join='inner')\n",
    "df1.shape"
   ]
  },
  {
   "cell_type": "code",
   "execution_count": 5,
   "metadata": {},
   "outputs": [
    {
     "name": "stderr",
     "output_type": "stream",
     "text": [
      "/home/ubuntu/anaconda3/lib/python3.8/site-packages/IPython/core/interactiveshell.py:3071: DtypeWarning: Columns (22) have mixed types.Specify dtype option on import or set low_memory=False.\n",
      "  has_raised = await self.run_ast_nodes(code_ast.body, cell_name,\n"
     ]
    },
    {
     "data": {
      "text/plain": [
       "(540912, 35)"
      ]
     },
     "execution_count": 5,
     "metadata": {},
     "output_type": "execute_result"
    }
   ],
   "source": [
    "df2 = pd.read_csv(\"/home/ubuntu/Geracao_profiling/ChikungunyaCompletoSINAN.csv\")\n",
    "df2 = df2[df2.CRITERIO == 2]\n",
    "df2.shape"
   ]
  },
  {
   "cell_type": "code",
   "execution_count": 6,
   "metadata": {},
   "outputs": [
    {
     "data": {
      "text/plain": [
       "(6732542, 120)"
      ]
     },
     "execution_count": 6,
     "metadata": {},
     "output_type": "execute_result"
    }
   ],
   "source": [
    "# #\n",
    "# df_completo = baseCompleta.join(df2)\n",
    "# df_completo.head()\n",
    "\n",
    "#versão antiga\n",
    "all_datasets_sinan.append(df2)\n",
    "baseCompleta = pd.concat(all_datasets_sinan, axis=0, ignore_index = True) \n",
    "baseCompleta.shape"
   ]
  },
  {
   "cell_type": "code",
   "execution_count": 7,
   "metadata": {},
   "outputs": [
    {
     "data": {
      "text/html": [
       "<div>\n",
       "<style scoped>\n",
       "    .dataframe tbody tr th:only-of-type {\n",
       "        vertical-align: middle;\n",
       "    }\n",
       "\n",
       "    .dataframe tbody tr th {\n",
       "        vertical-align: top;\n",
       "    }\n",
       "\n",
       "    .dataframe thead th {\n",
       "        text-align: right;\n",
       "    }\n",
       "</style>\n",
       "<table border=\"1\" class=\"dataframe\">\n",
       "  <thead>\n",
       "    <tr style=\"text-align: right;\">\n",
       "      <th></th>\n",
       "      <th>Unnamed: 0</th>\n",
       "      <th>TP_NOT</th>\n",
       "      <th>ID_AGRAVO</th>\n",
       "      <th>DT_NOTIFIC</th>\n",
       "      <th>SEM_NOT</th>\n",
       "      <th>NU_ANO</th>\n",
       "      <th>SG_UF_NOT</th>\n",
       "      <th>ID_MUNICIP</th>\n",
       "      <th>ID_REGIONA</th>\n",
       "      <th>ID_UNIDADE</th>\n",
       "      <th>...</th>\n",
       "      <th>LACO_N</th>\n",
       "      <th>PLASMATICO</th>\n",
       "      <th>EVIDENCIA</th>\n",
       "      <th>PLAQ_MENOR</th>\n",
       "      <th>CON_FHD</th>\n",
       "      <th>COMPLICA</th>\n",
       "      <th>TP_SISTEMA</th>\n",
       "      <th>NDUPLIC_N</th>\n",
       "      <th>CS_FLXRET</th>\n",
       "      <th>FLXRECEBI</th>\n",
       "    </tr>\n",
       "  </thead>\n",
       "  <tbody>\n",
       "    <tr>\n",
       "      <th>0</th>\n",
       "      <td>1</td>\n",
       "      <td>2</td>\n",
       "      <td>A90</td>\n",
       "      <td>2018-05-07</td>\n",
       "      <td>201819</td>\n",
       "      <td>2018</td>\n",
       "      <td>25</td>\n",
       "      <td>251620</td>\n",
       "      <td>1426.0</td>\n",
       "      <td>2504537.0</td>\n",
       "      <td>...</td>\n",
       "      <td>NaN</td>\n",
       "      <td>NaN</td>\n",
       "      <td>NaN</td>\n",
       "      <td>NaN</td>\n",
       "      <td>NaN</td>\n",
       "      <td>NaN</td>\n",
       "      <td>2.0</td>\n",
       "      <td>NaN</td>\n",
       "      <td>1.0</td>\n",
       "      <td>NaN</td>\n",
       "    </tr>\n",
       "    <tr>\n",
       "      <th>1</th>\n",
       "      <td>3</td>\n",
       "      <td>2</td>\n",
       "      <td>A90</td>\n",
       "      <td>2018-02-05</td>\n",
       "      <td>201806</td>\n",
       "      <td>2018</td>\n",
       "      <td>25</td>\n",
       "      <td>250840</td>\n",
       "      <td>1426.0</td>\n",
       "      <td>2606399.0</td>\n",
       "      <td>...</td>\n",
       "      <td>NaN</td>\n",
       "      <td>NaN</td>\n",
       "      <td>NaN</td>\n",
       "      <td>NaN</td>\n",
       "      <td>NaN</td>\n",
       "      <td>NaN</td>\n",
       "      <td>2.0</td>\n",
       "      <td>NaN</td>\n",
       "      <td>1.0</td>\n",
       "      <td>NaN</td>\n",
       "    </tr>\n",
       "    <tr>\n",
       "      <th>2</th>\n",
       "      <td>4</td>\n",
       "      <td>2</td>\n",
       "      <td>A90</td>\n",
       "      <td>2018-01-22</td>\n",
       "      <td>201804</td>\n",
       "      <td>2018</td>\n",
       "      <td>25</td>\n",
       "      <td>250840</td>\n",
       "      <td>1426.0</td>\n",
       "      <td>2606399.0</td>\n",
       "      <td>...</td>\n",
       "      <td>NaN</td>\n",
       "      <td>NaN</td>\n",
       "      <td>NaN</td>\n",
       "      <td>NaN</td>\n",
       "      <td>NaN</td>\n",
       "      <td>NaN</td>\n",
       "      <td>2.0</td>\n",
       "      <td>NaN</td>\n",
       "      <td>1.0</td>\n",
       "      <td>NaN</td>\n",
       "    </tr>\n",
       "    <tr>\n",
       "      <th>3</th>\n",
       "      <td>11</td>\n",
       "      <td>2</td>\n",
       "      <td>A90</td>\n",
       "      <td>2018-05-07</td>\n",
       "      <td>201819</td>\n",
       "      <td>2018</td>\n",
       "      <td>25</td>\n",
       "      <td>251080</td>\n",
       "      <td>1422.0</td>\n",
       "      <td>2605481.0</td>\n",
       "      <td>...</td>\n",
       "      <td>NaN</td>\n",
       "      <td>NaN</td>\n",
       "      <td>NaN</td>\n",
       "      <td>NaN</td>\n",
       "      <td>NaN</td>\n",
       "      <td>NaN</td>\n",
       "      <td>2.0</td>\n",
       "      <td>NaN</td>\n",
       "      <td>1.0</td>\n",
       "      <td>NaN</td>\n",
       "    </tr>\n",
       "    <tr>\n",
       "      <th>4</th>\n",
       "      <td>13</td>\n",
       "      <td>2</td>\n",
       "      <td>A90</td>\n",
       "      <td>2018-04-09</td>\n",
       "      <td>201815</td>\n",
       "      <td>2018</td>\n",
       "      <td>25</td>\n",
       "      <td>251080</td>\n",
       "      <td>1422.0</td>\n",
       "      <td>2605481.0</td>\n",
       "      <td>...</td>\n",
       "      <td>NaN</td>\n",
       "      <td>NaN</td>\n",
       "      <td>NaN</td>\n",
       "      <td>NaN</td>\n",
       "      <td>NaN</td>\n",
       "      <td>NaN</td>\n",
       "      <td>2.0</td>\n",
       "      <td>NaN</td>\n",
       "      <td>1.0</td>\n",
       "      <td>NaN</td>\n",
       "    </tr>\n",
       "  </tbody>\n",
       "</table>\n",
       "<p>5 rows × 120 columns</p>\n",
       "</div>"
      ],
      "text/plain": [
       "   Unnamed: 0  TP_NOT ID_AGRAVO  DT_NOTIFIC  SEM_NOT  NU_ANO  SG_UF_NOT  \\\n",
       "0           1       2       A90  2018-05-07   201819    2018         25   \n",
       "1           3       2       A90  2018-02-05   201806    2018         25   \n",
       "2           4       2       A90  2018-01-22   201804    2018         25   \n",
       "3          11       2       A90  2018-05-07   201819    2018         25   \n",
       "4          13       2       A90  2018-04-09   201815    2018         25   \n",
       "\n",
       "  ID_MUNICIP  ID_REGIONA  ID_UNIDADE  ... LACO_N PLASMATICO EVIDENCIA  \\\n",
       "0     251620      1426.0   2504537.0  ...    NaN        NaN       NaN   \n",
       "1     250840      1426.0   2606399.0  ...    NaN        NaN       NaN   \n",
       "2     250840      1426.0   2606399.0  ...    NaN        NaN       NaN   \n",
       "3     251080      1422.0   2605481.0  ...    NaN        NaN       NaN   \n",
       "4     251080      1422.0   2605481.0  ...    NaN        NaN       NaN   \n",
       "\n",
       "   PLAQ_MENOR CON_FHD  COMPLICA  TP_SISTEMA  NDUPLIC_N  CS_FLXRET  FLXRECEBI  \n",
       "0         NaN     NaN       NaN         2.0        NaN        1.0        NaN  \n",
       "1         NaN     NaN       NaN         2.0        NaN        1.0        NaN  \n",
       "2         NaN     NaN       NaN         2.0        NaN        1.0        NaN  \n",
       "3         NaN     NaN       NaN         2.0        NaN        1.0        NaN  \n",
       "4         NaN     NaN       NaN         2.0        NaN        1.0        NaN  \n",
       "\n",
       "[5 rows x 120 columns]"
      ]
     },
     "execution_count": 7,
     "metadata": {},
     "output_type": "execute_result"
    }
   ],
   "source": [
    "baseCompleta.head()"
   ]
  },
  {
   "cell_type": "code",
   "execution_count": 9,
   "metadata": {},
   "outputs": [
    {
     "data": {
      "text/plain": [
       "array(['PB', 'PE', 'RN', 'AC', 'RO', 'ES', 'GO', 'MS', 'PA', 'AM', 'MG',\n",
       "       'MT', 'SC', 'SP', 'SE', 'AL', 'TO', 'BA', 'AP', 'CE', 'MA', 'DF',\n",
       "       'PR', 'RS', 'RJ', 'RR', 'PI'], dtype=object)"
      ]
     },
     "execution_count": 9,
     "metadata": {},
     "output_type": "execute_result"
    }
   ],
   "source": [
    "array_ufs = [\n",
    "    ['AC',12],['AL',27],['AP',16],['AM',13],['BA',29],['CE',23],['DF',53],['ES',32],['GO',52],['MA',21],['MT',51],\n",
    "    ['MS',50],['MG',31],['PA',15],['PB',25],['PR',41],['PE',26],['PI',22],['RN',24],['RS',43],['RJ',33],['RO',11],\n",
    "    ['RR',14],['SC',42],['SP',35],['SE',28],['TO',17]\n",
    "]\n",
    "\n",
    "for uf in array_ufs:\n",
    "    baseCompleta.loc[baseCompleta.SG_UF_NOT == uf[1],'UF'] = uf[0]\n",
    "    \n",
    "baseCompleta.UF.unique()"
   ]
  },
  {
   "cell_type": "code",
   "execution_count": 10,
   "metadata": {},
   "outputs": [
    {
     "data": {
      "text/plain": [
       "(6732542, 120)"
      ]
     },
     "execution_count": 10,
     "metadata": {},
     "output_type": "execute_result"
    }
   ],
   "source": [
    "baseCompleta.shape"
   ]
  },
  {
   "cell_type": "code",
   "execution_count": 11,
   "metadata": {},
   "outputs": [
    {
     "data": {
      "text/plain": [
       "(6732542, 120)"
      ]
     },
     "execution_count": 11,
     "metadata": {},
     "output_type": "execute_result"
    }
   ],
   "source": [
    "baseCompleta = baseCompleta[baseCompleta.CRITERIO == 2]\n",
    "baseCompleta.shape"
   ]
  },
  {
   "cell_type": "code",
   "execution_count": 12,
   "metadata": {},
   "outputs": [],
   "source": [
    "baseCompleta.to_csv(\"/home/ubuntu/Geracao_profiling/BaseCompleta.csv\", sep=\",\", index = False)"
   ]
  },
  {
   "cell_type": "code",
   "execution_count": 17,
   "metadata": {},
   "outputs": [
    {
     "name": "stdout",
     "output_type": "stream",
     "text": [
      "\n",
      "### Salvando o profiling em: /home/ubuntu/Geracao_profiling/Profilings/Brasil/SINAN_GERAL.html\n"
     ]
    },
    {
     "data": {
      "application/vnd.jupyter.widget-view+json": {
       "model_id": "783e7c22b9594eb2880a771f3ac89d9f",
       "version_major": 2,
       "version_minor": 0
      },
      "text/plain": [
       "Summarize dataset:   0%|          | 0/128 [00:00<?, ?it/s]"
      ]
     },
     "metadata": {},
     "output_type": "display_data"
    },
    {
     "data": {
      "application/vnd.jupyter.widget-view+json": {
       "model_id": "b7815de42aa749959712c4d155df355b",
       "version_major": 2,
       "version_minor": 0
      },
      "text/plain": [
       "Generate report structure:   0%|          | 0/1 [00:00<?, ?it/s]"
      ]
     },
     "metadata": {},
     "output_type": "display_data"
    },
    {
     "data": {
      "application/vnd.jupyter.widget-view+json": {
       "model_id": "cbe446cc74ef49aaa7a0ff8fe6522418",
       "version_major": 2,
       "version_minor": 0
      },
      "text/plain": [
       "Render HTML:   0%|          | 0/1 [00:00<?, ?it/s]"
      ]
     },
     "metadata": {},
     "output_type": "display_data"
    },
    {
     "data": {
      "application/vnd.jupyter.widget-view+json": {
       "model_id": "1e9a28cb0cfd45e4925d5aeb5110d137",
       "version_major": 2,
       "version_minor": 0
      },
      "text/plain": [
       "Export report to file:   0%|          | 0/1 [00:00<?, ?it/s]"
      ]
     },
     "metadata": {},
     "output_type": "display_data"
    }
   ],
   "source": [
    "profile = pandas_profiling.ProfileReport(baseCompleta, title='SINAN_GERAL', minimal=True)\n",
    "\n",
    "profiling_path = \"/home/ubuntu/Geracao_profiling/Profilings/Brasil\"\n",
    "\n",
    "profile_path = f'{profiling_path}/SINAN_GERAL.html'\n",
    "print(f'\\n### Salvando o profiling em: {profile_path}')\n",
    "profile.to_file(profile_path)"
   ]
  },
  {
   "cell_type": "code",
   "execution_count": null,
   "metadata": {},
   "outputs": [],
   "source": []
  }
 ],
 "metadata": {
  "kernelspec": {
   "display_name": "Python 3",
   "language": "python",
   "name": "python3"
  },
  "language_info": {
   "codemirror_mode": {
    "name": "ipython",
    "version": 3
   },
   "file_extension": ".py",
   "mimetype": "text/x-python",
   "name": "python",
   "nbconvert_exporter": "python",
   "pygments_lexer": "ipython3",
   "version": "3.8.3"
  }
 },
 "nbformat": 4,
 "nbformat_minor": 4
}
